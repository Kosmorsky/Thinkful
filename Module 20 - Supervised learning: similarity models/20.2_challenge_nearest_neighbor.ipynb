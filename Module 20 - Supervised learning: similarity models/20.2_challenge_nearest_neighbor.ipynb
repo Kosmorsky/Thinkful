{
 "cells": [
  {
   "cell_type": "code",
   "execution_count": 28,
   "metadata": {},
   "outputs": [],
   "source": [
    "import numpy as np\n",
    "import pandas as pd\n",
    "from math import sqrt"
   ]
  },
  {
   "cell_type": "code",
   "execution_count": 62,
   "metadata": {},
   "outputs": [
    {
     "data": {
      "text/html": [
       "<div>\n",
       "<style scoped>\n",
       "    .dataframe tbody tr th:only-of-type {\n",
       "        vertical-align: middle;\n",
       "    }\n",
       "\n",
       "    .dataframe tbody tr th {\n",
       "        vertical-align: top;\n",
       "    }\n",
       "\n",
       "    .dataframe thead th {\n",
       "        text-align: right;\n",
       "    }\n",
       "</style>\n",
       "<table border=\"1\" class=\"dataframe\">\n",
       "  <thead>\n",
       "    <tr style=\"text-align: right;\">\n",
       "      <th></th>\n",
       "      <th>Speed</th>\n",
       "      <th>Strength</th>\n",
       "      <th>Class</th>\n",
       "    </tr>\n",
       "  </thead>\n",
       "  <tbody>\n",
       "    <tr>\n",
       "      <th>0</th>\n",
       "      <td>2</td>\n",
       "      <td>3</td>\n",
       "      <td>Prey</td>\n",
       "    </tr>\n",
       "    <tr>\n",
       "      <th>1</th>\n",
       "      <td>4</td>\n",
       "      <td>5</td>\n",
       "      <td>Prey</td>\n",
       "    </tr>\n",
       "    <tr>\n",
       "      <th>2</th>\n",
       "      <td>3</td>\n",
       "      <td>1</td>\n",
       "      <td>Prey</td>\n",
       "    </tr>\n",
       "    <tr>\n",
       "      <th>3</th>\n",
       "      <td>2</td>\n",
       "      <td>4</td>\n",
       "      <td>Prey</td>\n",
       "    </tr>\n",
       "    <tr>\n",
       "      <th>4</th>\n",
       "      <td>1</td>\n",
       "      <td>2</td>\n",
       "      <td>Prey</td>\n",
       "    </tr>\n",
       "    <tr>\n",
       "      <th>5</th>\n",
       "      <td>8</td>\n",
       "      <td>8</td>\n",
       "      <td>Predator</td>\n",
       "    </tr>\n",
       "    <tr>\n",
       "      <th>6</th>\n",
       "      <td>9</td>\n",
       "      <td>6</td>\n",
       "      <td>Predator</td>\n",
       "    </tr>\n",
       "    <tr>\n",
       "      <th>7</th>\n",
       "      <td>6</td>\n",
       "      <td>9</td>\n",
       "      <td>Predator</td>\n",
       "    </tr>\n",
       "    <tr>\n",
       "      <th>8</th>\n",
       "      <td>7</td>\n",
       "      <td>5</td>\n",
       "      <td>Predator</td>\n",
       "    </tr>\n",
       "    <tr>\n",
       "      <th>9</th>\n",
       "      <td>8</td>\n",
       "      <td>7</td>\n",
       "      <td>Predator</td>\n",
       "    </tr>\n",
       "  </tbody>\n",
       "</table>\n",
       "</div>"
      ],
      "text/plain": [
       "   Speed  Strength     Class\n",
       "0      2         3      Prey\n",
       "1      4         5      Prey\n",
       "2      3         1      Prey\n",
       "3      2         4      Prey\n",
       "4      1         2      Prey\n",
       "5      8         8  Predator\n",
       "6      9         6  Predator\n",
       "7      6         9  Predator\n",
       "8      7         5  Predator\n",
       "9      8         7  Predator"
      ]
     },
     "execution_count": 62,
     "metadata": {},
     "output_type": "execute_result"
    }
   ],
   "source": [
    "animals = pd.DataFrame()\n",
    "\n",
    "# higher speed & strength = predator\n",
    "# lower speed & strength = prey\n",
    "animals['Speed']    = [2,4,3,2,1,8,9,6,7,8]\n",
    "animals['Strength'] = [3,5,1,4,2,8,6,9,5,7]\n",
    "animals['Class']    = ['Prey','Prey','Prey','Prey','Prey',\n",
    "                       'Predator','Predator','Predator','Predator','Predator']\n",
    "animals"
   ]
  },
  {
   "cell_type": "code",
   "execution_count": 61,
   "metadata": {},
   "outputs": [
    {
     "data": {
      "text/plain": [
       "3    Prey\n",
       "Name: Class, dtype: object"
      ]
     },
     "execution_count": 61,
     "metadata": {},
     "output_type": "execute_result"
    }
   ],
   "source": [
    "# test animal\n",
    "speed = 2\n",
    "strength = 4\n",
    "\n",
    "def nearest_neighbor(speed, strength):\n",
    "    \n",
    "    # find euclidean distances from test animal to each animal & append distances to dataframe\n",
    "    animals['distances'] = np.sqrt((animals['Speed'] - speed)**2 + (animals['Strength'] - strength)**2)  \n",
    "    \n",
    "    # find minimum distance (nearest neighbor)\n",
    "    min_distance = animals['distances'].min()  \n",
    "    \n",
    "    # get classification of nearest neighbor\n",
    "    animal_class = animals[animals['distances'] == min_distance].Class  \n",
    "    \n",
    "    return animal_class\n",
    "\n",
    "nearest_neighbor(speed, strength)\n",
    "\n",
    "# view new dataframe w/ distances\n",
    "#animals['distances'] = np.sqrt((animals['Speed'] - speed)**2 + (animals['Strength'] - strength)**2)\n",
    "#animals"
   ]
  }
 ],
 "metadata": {
  "kernelspec": {
   "display_name": "Python 3",
   "language": "python",
   "name": "python3"
  },
  "language_info": {
   "codemirror_mode": {
    "name": "ipython",
    "version": 3
   },
   "file_extension": ".py",
   "mimetype": "text/x-python",
   "name": "python",
   "nbconvert_exporter": "python",
   "pygments_lexer": "ipython3",
   "version": "3.7.2"
  }
 },
 "nbformat": 4,
 "nbformat_minor": 4
}
