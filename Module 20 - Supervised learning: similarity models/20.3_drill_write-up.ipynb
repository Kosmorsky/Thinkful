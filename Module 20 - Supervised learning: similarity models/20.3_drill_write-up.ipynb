{
 "cells": [
  {
   "cell_type": "markdown",
   "metadata": {},
   "source": [
    "## DRILL:\n",
    "\n",
    "#### Let's say we work at a credit card company and we're trying to figure out if people are going to pay their bills on time. We have everyone's purchases, split into four main categories: groceries, dining out, utilities, and entertainment. What are some ways you might use KNN to create this model? What aspects of KNN would be useful? Write up your thoughts in submit a link below."
   ]
  },
  {
   "cell_type": "markdown",
   "metadata": {},
   "source": [
    "The % amounts that people spend on different categories may determine whether they are likely to pay their bill on time. For example, an individual who spends most of their money on groceries and utilities is likely more responsible than someone who spends it on dining out and entertainment, and would be more likely to pay their bills on time. \n",
    "\n",
    "KNN can be used in this model to see if someone's spending habits align more with a responsible spender (groceries/utilities) or an irresponsible spender (dining out/entertainment) in order to predict if they will pay their bills on time or not."
   ]
  }
 ],
 "metadata": {
  "kernelspec": {
   "display_name": "Python 3",
   "language": "python",
   "name": "python3"
  },
  "language_info": {
   "codemirror_mode": {
    "name": "ipython",
    "version": 3
   },
   "file_extension": ".py",
   "mimetype": "text/x-python",
   "name": "python",
   "nbconvert_exporter": "python",
   "pygments_lexer": "ipython3",
   "version": "3.7.2"
  }
 },
 "nbformat": 4,
 "nbformat_minor": 4
}
