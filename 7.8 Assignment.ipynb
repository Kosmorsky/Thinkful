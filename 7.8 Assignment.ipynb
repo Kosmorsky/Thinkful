{
 "cells": [
  {
   "cell_type": "code",
   "execution_count": 165,
   "metadata": {},
   "outputs": [],
   "source": [
    "#CK"
   ]
  },
  {
   "cell_type": "code",
   "execution_count": 157,
   "metadata": {},
   "outputs": [],
   "source": [
    "import numpy as np\n",
    "import pandas as pd\n",
    "import matplotlib.pyplot as plt\n",
    "%matplotlib inline"
   ]
  },
  {
   "cell_type": "markdown",
   "metadata": {},
   "source": [
    "# Assignment"
   ]
  },
  {
   "cell_type": "markdown",
   "metadata": {},
   "source": [
    "Choose 6 distributions from the list of random distributions available in NumPy, called “Distributions”\n",
    "\n",
    "For each distribution:\n",
    "\n",
    "1. Generate a random variable with 100 datapoints using the code distributionvar = np.random.distributionname([arguments], 100), replacing distributionvar with an appropriate variable name and distributionname with the name of the distribution you’ve chosen, and filling in the empty space in the parentheses with your chosen values for the appropriate parameters. If you feel uncertain about how to do this, go back to the “Other Distributions” assignment for examples of code to use as a starting point.\n",
    "\n",
    "2. Graph the variable using a histogram.\n",
    "\n",
    "3. Compute the mean and standard deviation and plot them as vertical lines on the histogram.\n",
    "\n",
    "4. Evaluate whether the descriptive statistics provided useful information about the variable. Can you identify any common characteristics of the distributions that could be usefully described using the mean and/or standard deviation, versus the ones that could not?"
   ]
  },
  {
   "cell_type": "markdown",
   "metadata": {},
   "source": [
    "# Dist 1: Standard Normal"
   ]
  },
  {
   "cell_type": "code",
   "execution_count": 158,
   "metadata": {},
   "outputs": [
    {
     "data": {
      "image/png": "[encoded data removed]",
      "text/plain": [
       "<Figure size 432x288 with 1 Axes>"
      ]
     },
     "metadata": {
      "needs_background": "light"
     },
     "output_type": "display_data"
    },
    {
     "name": "stdout",
     "output_type": "stream",
     "text": [
      "Since this is a standard normal distribution, it is obviously normally distributed and not skewed\n",
      "The mean shows central tendency and std devs are accurate\n"
     ]
    }
   ],
   "source": [
    "std_norm = np.random.standard_normal(100)\n",
    "\n",
    "#hist\n",
    "plt.hist(std_norm)\n",
    "\n",
    "#mean/stddev\n",
    "plt.axvline(std_norm.mean(), color='r', linestyle='solid', linewidth=2)\n",
    "plt.axvline(std_norm.mean() + std_norm.std(), color='r', linestyle='dashed', linewidth=2)\n",
    "plt.axvline(std_norm.mean() - std_norm.std(), color='r', linestyle='dashed', linewidth=2)\n",
    "\n",
    "plt.show()\n",
    "\n",
    "#EVALUATION\n",
    "print('Since this is a standard normal distribution, it is obviously normally distributed and not skewed')\n",
    "print('The mean shows central tendency and std devs are accurate')"
   ]
  },
  {
   "cell_type": "markdown",
   "metadata": {},
   "source": [
    "# Dist 2: Gumbel"
   ]
  },
  {
   "cell_type": "code",
   "execution_count": 159,
   "metadata": {},
   "outputs": [
    {
     "data": {
      "image/png": "[encoded data removed]",
      "text/plain": [
       "<Figure size 432x288 with 1 Axes>"
      ]
     },
     "metadata": {
      "needs_background": "light"
     },
     "output_type": "display_data"
    },
    {
     "name": "stdout",
     "output_type": "stream",
     "text": [
      "While this distribution appears to be a bit skewed, the standard deviations seem fairly accurate from an eye test\n",
      "There are always a few large outliers due to this being a measure of maximums of sample distributions\n"
     ]
    }
   ],
   "source": [
    "gumbel = np.random.gumbel(loc=0.0, scale=1.0, size=100)\n",
    "\n",
    "#hist\n",
    "plt.hist(gumbel)\n",
    "\n",
    "#mean/stddev\n",
    "plt.axvline(gumbel.mean(), color='r', linestyle='solid', linewidth=2)\n",
    "plt.axvline(gumbel.mean() + gumbel.std(), color='r', linestyle='dashed', linewidth=2)\n",
    "plt.axvline(gumbel.mean() - gumbel.std(), color='r', linestyle='dashed', linewidth=2)\n",
    "\n",
    "plt.show()\n",
    "\n",
    "#EVALUATION\n",
    "print('While this distribution appears to be a bit skewed, the standard deviations seem fairly accurate from an eye test')\n",
    "print('There are always a few large outliers due to this being a measure of maximums of sample distributions')"
   ]
  },
  {
   "cell_type": "markdown",
   "metadata": {},
   "source": [
    "# Dist 3: Exponential"
   ]
  },
  {
   "cell_type": "code",
   "execution_count": 160,
   "metadata": {},
   "outputs": [
    {
     "data": {
      "image/png": "[encoded data removed]",
      "text/plain": [
       "<Figure size 432x288 with 1 Axes>"
      ]
     },
     "metadata": {
      "needs_background": "light"
     },
     "output_type": "display_data"
    },
    {
     "name": "stdout",
     "output_type": "stream",
     "text": [
      "This distribution is skewed to one side, as can be expected with an exponential distribution\n"
     ]
    }
   ],
   "source": [
    "exp = np.random.exponential(scale=1.0, size=100)\n",
    "\n",
    "#hist\n",
    "plt.hist(exp)\n",
    "\n",
    "#mean/stddev\n",
    "plt.axvline(exp.mean(), color='r', linestyle='solid', linewidth=2)\n",
    "plt.axvline(exp.mean() + exp.std(), color='r', linestyle='dashed', linewidth=2)\n",
    "plt.axvline(exp.mean() - exp.std(), color='r', linestyle='dashed', linewidth=2)\n",
    "\n",
    "plt.show()\n",
    "\n",
    "#EVALUATION\n",
    "print('This distribution is skewed to one side, as can be expected with an exponential distribution')"
   ]
  },
  {
   "cell_type": "markdown",
   "metadata": {},
   "source": [
    "# Dist 4: Geometric"
   ]
  },
  {
   "cell_type": "code",
   "execution_count": 161,
   "metadata": {},
   "outputs": [
    {
     "data": {
      "image/png": "[encoded data removed]",
      "text/plain": [
       "<Figure size 432x288 with 1 Axes>"
      ]
     },
     "metadata": {
      "needs_background": "light"
     },
     "output_type": "display_data"
    },
    {
     "name": "stdout",
     "output_type": "stream",
     "text": [
      "Geometric dist = number of failures before first success\n",
      "The higher the probability, the more the data is skewed towards 1, since a success will happen sooner\n"
     ]
    }
   ],
   "source": [
    "#p = probability of success\n",
    "geo = np.random.geometric(p=.1, size=100)\n",
    "\n",
    "#hist\n",
    "plt.hist(geo)\n",
    "\n",
    "#mean/stddev\n",
    "plt.axvline(geo.mean(), color='r', linestyle='solid', linewidth=2)\n",
    "plt.axvline(geo.mean() + geo.std(), color='r', linestyle='dashed', linewidth=2)\n",
    "plt.axvline(geo.mean() - geo.std(), color='r', linestyle='dashed', linewidth=2)\n",
    "\n",
    "plt.show()\n",
    "\n",
    "#EVALUATION\n",
    "print('Geometric dist = number of failures before first success')\n",
    "print('The higher the probability, the more the data is skewed towards 1, since a success will happen sooner')"
   ]
  },
  {
   "cell_type": "markdown",
   "metadata": {},
   "source": [
    "# Dist 5: Cauchy"
   ]
  },
  {
   "cell_type": "code",
   "execution_count": 162,
   "metadata": {},
   "outputs": [
    {
     "data": {
      "image/png": "[encoded data removed]",
      "text/plain": [
       "<Figure size 432x288 with 1 Axes>"
      ]
     },
     "metadata": {
      "needs_background": "light"
     },
     "output_type": "display_data"
    },
    {
     "name": "stdout",
     "output_type": "stream",
     "text": [
      "It appears 90%+ of values are centered at 0, while few outliers extend outward\n",
      "This data looks close to normally distrubuted\n"
     ]
    }
   ],
   "source": [
    "std_cauchy = np.random.standard_cauchy(100)\n",
    "\n",
    "#hist\n",
    "plt.hist(std_cauchy)\n",
    "\n",
    "#mean/stddev\n",
    "plt.axvline(std_cauchy.mean(), color='r', linestyle='solid', linewidth=2)\n",
    "plt.axvline(std_cauchy.mean() + std_cauchy.std(), color='r', linestyle='dashed', linewidth=2)\n",
    "plt.axvline(std_cauchy.mean() - std_cauchy.std(), color='r', linestyle='dashed', linewidth=2)\n",
    "\n",
    "plt.show()\n",
    "\n",
    "#EVALUATION\n",
    "print('It appears 90%+ of values are centered at 0, while few outliers extend outward')\n",
    "print('This data looks close to normally distrubuted')"
   ]
  },
  {
   "cell_type": "markdown",
   "metadata": {},
   "source": [
    "# Dist 6: Uniform"
   ]
  },
  {
   "cell_type": "code",
   "execution_count": 163,
   "metadata": {},
   "outputs": [
    {
     "data": {
      "image/png": "[encoded data removed]",
      "text/plain": [
       "<Figure size 432x288 with 1 Axes>"
      ]
     },
     "metadata": {
      "needs_background": "light"
     },
     "output_type": "display_data"
    },
    {
     "name": "stdout",
     "output_type": "stream",
     "text": [
      "Distribution is symmetric\n",
      "Standard deviations tell us nothing\n"
     ]
    }
   ],
   "source": [
    "uni = np.random.uniform(low=0, high=1.0, size=100)\n",
    "\n",
    "#hist\n",
    "plt.hist(uni)\n",
    "\n",
    "#mean/stddev\n",
    "plt.axvline(uni.mean(), color='r', linestyle='solid', linewidth=2)\n",
    "plt.axvline(uni.mean() + uni.std(), color='r', linestyle='dashed', linewidth=2)\n",
    "plt.axvline(uni.mean() - uni.std(), color='r', linestyle='dashed', linewidth=2)\n",
    "\n",
    "plt.show()\n",
    "\n",
    "#EVALUATION\n",
    "print('Distribution is symmetric')\n",
    "print('Standard deviations tell us nothing')"
   ]
  },
  {
   "cell_type": "markdown",
   "metadata": {},
   "source": [
    "Additionally:\n",
    "\n",
    "1. Generate two normally-distributed variables, one with a mean of 5 and standard deviation of 0.5, and the other with a mean of 10 and standard deviation of 1.\n",
    "2. Add them together to create a third variable.\n",
    "3. Graph the third variable using a histogram.\n",
    "4. Compute the mean and standard deviation and plot them as vertical lines on the histogram.\n",
    "5. Evaluate the descriptive statistics against the data."
   ]
  },
  {
   "cell_type": "code",
   "execution_count": 164,
   "metadata": {},
   "outputs": [
    {
     "data": {
      "image/png": "[encoded data removed]",
      "text/plain": [
       "<Figure size 432x288 with 1 Axes>"
      ]
     },
     "metadata": {
      "needs_background": "light"
     },
     "output_type": "display_data"
    },
    {
     "name": "stdout",
     "output_type": "stream",
     "text": [
      "Data generally shows central tendency\n",
      "May skew in either direction\n"
     ]
    }
   ],
   "source": [
    "v1 = np.random.normal(5, .5, 100)\n",
    "v2 = np.random.normal(10, 1, 100)\n",
    "v3 = v1 + v2\n",
    "\n",
    "#hist\n",
    "plt.hist(v3)\n",
    "\n",
    "#mean/stddev\n",
    "plt.axvline(v3.mean(), color='r', linestyle='solid', linewidth=2)\n",
    "plt.axvline(v3.mean() + v3.std(), color='r', linestyle='dashed', linewidth=2)\n",
    "plt.axvline(v3.mean() - v3.std(), color='r', linestyle='dashed', linewidth=2)\n",
    "\n",
    "plt.show()\n",
    "\n",
    "#EVALUATION\n",
    "print('Data generally shows central tendency')\n",
    "print('May skew in either direction')"
   ]
  }
 ],
 "metadata": {
  "kernelspec": {
   "display_name": "Python 3",
   "language": "python",
   "name": "python3"
  },
  "language_info": {
   "codemirror_mode": {
    "name": "ipython",
    "version": 3
   },
   "file_extension": ".py",
   "mimetype": "text/x-python",
   "name": "python",
   "nbconvert_exporter": "python",
   "pygments_lexer": "ipython3",
   "version": "3.7.2"
  }
 },
 "nbformat": 4,
 "nbformat_minor": 2
}
