{
 "cells": [
  {
   "cell_type": "markdown",
   "metadata": {},
   "source": [
    "**Theoretical Data Source: Amsterdam availability data scraped from AirBnB on December 24th.**\n",
    "\n",
    "**Question: What are the popular neighborhoods in Amsterdam?**\n",
    "\n",
    "Day before xmas. Will not be regular data. May be more or less availability due to people travelling or staying home for holidays.\n",
    "\n",
    "AirBnB dada won't necessarily determine popular neighborhoods. Visitors may chose places based on price, etc.\n",
    "\n",
    "Could reframe question to be popular holiday spots...\n",
    "\n",
    "\n",
    "**Theoretical Data Source: Mental health services use on September 12, 2001 in San Francisco, CA and New York City, NY.**\n",
    "\n",
    "**Question: How do patterns of mental health service use vary between cities?**\n",
    "\n",
    "September 11th, 2001 was the terrorist attack of 9/11 in NYC.\n",
    "\n",
    "Mental health service use would be much higher at this time in NYC than SF.\n",
    "\n",
    "Interesting new question could be: how did 9/11 affect mental health service use in NYC compared to SF or other cities?\n",
    "\n",
    "\n",
    "\n",
    "**Actual Data Source: Armenian Pub Survey.**\n",
    "\n",
    "**Question: What are the most common reasons Armenians visit local pubs?**\n",
    "\n",
    "Data only represents students at the American University of Armenia, not all Armenians.\n",
    "\n",
    "Question could be rephrased to apply only to these students."
   ]
  },
  {
   "cell_type": "code",
   "execution_count": null,
   "metadata": {},
   "outputs": [],
   "source": []
  }
 ],
 "metadata": {
  "kernelspec": {
   "display_name": "Python 3",
   "language": "python",
   "name": "python3"
  },
  "language_info": {
   "codemirror_mode": {
    "name": "ipython",
    "version": 3
   },
   "file_extension": ".py",
   "mimetype": "text/x-python",
   "name": "python",
   "nbconvert_exporter": "python",
   "pygments_lexer": "ipython3",
   "version": "3.7.2"
  }
 },
 "nbformat": 4,
 "nbformat_minor": 2
}
