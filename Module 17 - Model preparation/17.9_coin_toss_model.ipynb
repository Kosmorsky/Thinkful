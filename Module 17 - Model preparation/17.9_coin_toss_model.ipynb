{
 "cells": [
  {
   "cell_type": "markdown",
   "metadata": {},
   "source": [
    "## 1. Try to model the result of a coin toss. In your model, include any features that you think important in explaining the result. Discuss with your mentor about the pros and cons of adding too many features into your model."
   ]
  },
  {
   "cell_type": "markdown",
   "metadata": {},
   "source": [
    "Assuming ideal coin toss conditions (no outside factors):\n",
    "\n",
    "1. flip #\n",
    "2. head/tail (binary)\n",
    "\n",
    "Possible realistic features:\n",
    "\n",
    "1. Start side of coin (before flip)\n",
    "2. Coin weight\n",
    "3. Force applied to toss\n",
    "4. Height of toss\n",
    "5. Velocity of coin rotation (rpm)\n",
    "6. Landing surface type and/or incline\n",
    "7. Wind conditions?\n",
    "\n",
    "Having too many features, while improving accuracy, may overcomplicate things. Only the most relevant features should be used."
   ]
  },
  {
   "cell_type": "markdown",
   "metadata": {},
   "source": [
    "## 2. If you ever used Netflix, you should already have realized that it provides some recommendations for you to watch. In data science, this is an example of the so-called recommendations systems. Read this nontechnical blog post of Netflix about how they model their recommendations systems. Then, derive the features they use in their recommendations engines and discuss what else can be incorporated into this model."
   ]
  },
  {
   "cell_type": "markdown",
   "metadata": {},
   "source": [
    "In order to give the user the best possible recommendations, Netflix uses a variety of features, such as:\n",
    "1. Viewing history\n",
    "2. User ratings\n",
    "3. Similar users' behavior\n",
    "4. Watched titles' info (genre, category, actors, release year, etc.)\n",
    "5. Viewing time of day\n",
    "6. Viewing devices\n",
    "7. Viewing duration\n",
    "\n",
    "Possible additional features they could use:\n",
    "1. Location\n",
    "2. Age/gender (they don't for some reason)\n",
    "The following would likely be out of the scope of data that Netflix can collect, but would still be useful:\n",
    "3. Viewing habits on other platforms (YouTube, Hulu etc.)\n",
    "4. Occupation\n",
    "5. Income\n",
    "6. Interests/Hobbies"
   ]
  }
 ],
 "metadata": {
  "kernelspec": {
   "display_name": "Python 3",
   "language": "python",
   "name": "python3"
  },
  "language_info": {
   "codemirror_mode": {
    "name": "ipython",
    "version": 3
   },
   "file_extension": ".py",
   "mimetype": "text/x-python",
   "name": "python",
   "nbconvert_exporter": "python",
   "pygments_lexer": "ipython3",
   "version": "3.7.2"
  }
 },
 "nbformat": 4,
 "nbformat_minor": 4
}
