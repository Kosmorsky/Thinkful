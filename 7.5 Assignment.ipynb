{
 "cells": [
  {
   "cell_type": "code",
   "execution_count": 13,
   "metadata": {},
   "outputs": [],
   "source": [
    "import statistics\n",
    "import numpy as np\n",
    "import pandas as pd\n",
    "import matplotlib.pyplot as plt"
   ]
  },
  {
   "cell_type": "markdown",
   "metadata": {},
   "source": [
    "1. Greg was 14, Marcia was 12, Peter was 11, Jan was 10, Bobby was 8, and Cindy was 6 when they started playing the Brady kids on The Brady Bunch. Cousin Oliver was 8 years old when he joined the show. What are the mean, median, and mode of the kids' ages when they first appeared on the show? What are the variance, standard deviation, and standard error?"
   ]
  },
  {
   "cell_type": "code",
   "execution_count": 24,
   "metadata": {},
   "outputs": [
    {
     "name": "stdout",
     "output_type": "stream",
     "text": [
      "Mean: 9.857142857142858\n",
      "Median: 10.0\n",
      "Mode: 8\n",
      "Variance: 7.476190476190475\n",
      "Std Dev: 2.734262327610589\n",
      "Std Err: 1.116257920926766\n"
     ]
    }
   ],
   "source": [
    "bunch = pd.DataFrame()\n",
    "\n",
    "bunch['Name'] = ['Greg', 'Marcia', 'Peter', 'Jan', 'Bobby', 'Cindy', 'Oliver']\n",
    "bunch['Age'] = [14, 12, 11, 10, 8, 6, 8]\n",
    "\n",
    "bunch\n",
    "\n",
    "\n",
    "print('Mean: {}'.format(np.mean(bunch['Age'])))\n",
    "print('Median: {}'.format(np.median(bunch['Age'])))\n",
    "print('Mode: {}'.format(statistics.mode(bunch['Age'])))\n",
    "print('Variance: {}'.format(bunch['Age'].var()))\n",
    "print('Std Dev: {}'.format(np.std(bunch['Age'], ddof=1)))\n",
    "print('Std Err: {}'.format(np.std(bunch['Age'],ddof=1) / np.sqrt(len(bunch['Age'])-1)))"
   ]
  },
  {
   "cell_type": "markdown",
   "metadata": {},
   "source": [
    "2. Using these estimates, if you had to choose only one estimate of central tendency and one estimate of variance to describe the data, which would you pick and why?"
   ]
  },
  {
   "cell_type": "markdown",
   "metadata": {},
   "source": [
    "mean / std deviation. Mean & meadian are almost the same"
   ]
  },
  {
   "cell_type": "markdown",
   "metadata": {},
   "source": [
    "3. Next, Cindy has a birthday. Update your estimates- what changed, and what didn't?"
   ]
  },
  {
   "cell_type": "code",
   "execution_count": 23,
   "metadata": {},
   "outputs": [
    {
     "name": "stdout",
     "output_type": "stream",
     "text": [
      "Mean: 10.0\n",
      "Median: 10.0\n",
      "Mode: 8\n",
      "Variance: 6.333333333333333\n",
      "Std Dev: 2.516611478423583\n",
      "Std Err: 1.0274023338281628\n"
     ]
    }
   ],
   "source": [
    "bunch['Age'] = [14, 12, 11, 10, 8, 7, 8]\n",
    "\n",
    "print('Mean: {}'.format(np.mean(bunch['Age'])))\n",
    "print('Median: {}'.format(np.median(bunch['Age'])))\n",
    "print('Mode: {}'.format(statistics.mode(bunch['Age'])))\n",
    "print('Variance: {}'.format(bunch['Age'].var()))\n",
    "print('Std Dev: {}'.format(np.std(bunch['Age'], ddof=1)))\n",
    "print('Std Err: {}'.format(np.std(bunch['Age'],ddof=1) / np.sqrt(len(bunch['Age'])-1)))"
   ]
  },
  {
   "cell_type": "markdown",
   "metadata": {},
   "source": [
    "Mean: increased to 10\n",
    "\n",
    "Median: remained unchanged\n",
    "\n",
    "Mode: remained unchanged\n",
    "\n",
    "Variance: decreased\n",
    "\n",
    "Std dev: decreased\n",
    "\n",
    "Std err: decreased"
   ]
  },
  {
   "cell_type": "markdown",
   "metadata": {},
   "source": [
    "4. Nobody likes Cousin Oliver. Maybe the network should have used an even younger actor. Replace Cousin Oliver with 1-year-old Jessica, then recalculate again. Does this change your choice of central tendency or variance estimation methods?"
   ]
  },
  {
   "cell_type": "code",
   "execution_count": 27,
   "metadata": {},
   "outputs": [
    {
     "name": "stdout",
     "output_type": "stream",
     "text": [
      "Mean: 8.857142857142858\n",
      "Median: 10.0\n",
      "Mode: None\n",
      "Variance: 18.80952380952381\n",
      "Std Dev: 4.3369947901195145\n",
      "Std Err: 1.7705707088169724\n"
     ]
    }
   ],
   "source": [
    "bunch['Name'] = ['Greg', 'Marcia', 'Peter', 'Jan', 'Bobby', 'Cindy', 'Jessica']\n",
    "bunch['Age'] = [14, 12, 11, 10, 8, 6, 1]\n",
    "\n",
    "print('Mean: {}'.format(np.mean(bunch['Age'])))\n",
    "print('Median: {}'.format(np.median(bunch['Age'])))\n",
    "##print('Mode: {}'.format(statistics.mode(bunch['Age'])))\n",
    "print('Mode: None')\n",
    "print('Variance: {}'.format(bunch['Age'].var()))\n",
    "print('Std Dev: {}'.format(np.std(bunch['Age'], ddof=1)))\n",
    "print('Std Err: {}'.format(np.std(bunch['Age'],ddof=1) / np.sqrt(len(bunch['Age'])-1)))"
   ]
  },
  {
   "cell_type": "markdown",
   "metadata": {},
   "source": [
    "Use median. 1yr old Jessica is outlier, median and mean diverge."
   ]
  },
  {
   "cell_type": "markdown",
   "metadata": {},
   "source": [
    "5. On the 50th anniversary of The Brady Bunch, four different magazines asked their readers whether they were fans of the show. The answers were: TV Guide 20% fans Entertainment Weekly 23% fans Pop Culture Today 17% fans SciPhi Phanatic 5% fans\n",
    "\n",
    "Based on these numbers, what percentage of adult Americans would you estimate were Brady Bunch fans on the 50th anniversary of the show?"
   ]
  },
  {
   "cell_type": "markdown",
   "metadata": {},
   "source": [
    "SciPhi Phanatic has more of a specific subset of readers which is why it's such an outlier.\n",
    "The other magazines have a broader audience so I would consider them in my average of 20%."
   ]
  },
  {
   "cell_type": "code",
   "execution_count": null,
   "metadata": {},
   "outputs": [],
   "source": []
  }
 ],
 "metadata": {
  "kernelspec": {
   "display_name": "Python 3",
   "language": "python",
   "name": "python3"
  },
  "language_info": {
   "codemirror_mode": {
    "name": "ipython",
    "version": 3
   },
   "file_extension": ".py",
   "mimetype": "text/x-python",
   "name": "python",
   "nbconvert_exporter": "python",
   "pygments_lexer": "ipython3",
   "version": "3.7.2"
  }
 },
 "nbformat": 4,
 "nbformat_minor": 2
}
