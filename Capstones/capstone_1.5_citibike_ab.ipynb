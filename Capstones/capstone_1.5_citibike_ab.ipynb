{
 "cells": [
  {
   "cell_type": "markdown",
   "metadata": {},
   "source": [
    "The main component of this capstone is a research proposal. Using the data set you selected, propose and outline an experiment plan. The plan should consist of three key components:\n",
    "\n",
    "1. Analysis that highlights your experimental hypothesis.\n",
    "2. A rollout plan showing how you would implement and rollout the experiment \n",
    "3. An evaluation plan showing what constitutes success in this experiment "
   ]
  },
  {
   "cell_type": "code",
   "execution_count": 1,
   "metadata": {},
   "outputs": [],
   "source": [
    "import numpy as np\n",
    "import pandas as pd\n",
    "import matplotlib.pyplot as plt\n",
    "import seaborn as sns\n",
    "import warnings; warnings.simplefilter('ignore')\n",
    "\n",
    "%matplotlib inline"
   ]
  },
  {
   "cell_type": "code",
   "execution_count": 2,
   "metadata": {},
   "outputs": [],
   "source": [
    "df = pd.read_csv('201801-citibike-tripdata.csv')"
   ]
  },
  {
   "cell_type": "code",
   "execution_count": 3,
   "metadata": {},
   "outputs": [
    {
     "data": {
      "text/html": [
       "<div>\n",
       "<style scoped>\n",
       "    .dataframe tbody tr th:only-of-type {\n",
       "        vertical-align: middle;\n",
       "    }\n",
       "\n",
       "    .dataframe tbody tr th {\n",
       "        vertical-align: top;\n",
       "    }\n",
       "\n",
       "    .dataframe thead th {\n",
       "        text-align: right;\n",
       "    }\n",
       "</style>\n",
       "<table border=\"1\" class=\"dataframe\">\n",
       "  <thead>\n",
       "    <tr style=\"text-align: right;\">\n",
       "      <th></th>\n",
       "      <th>tripduration</th>\n",
       "      <th>starttime</th>\n",
       "      <th>stoptime</th>\n",
       "      <th>start station id</th>\n",
       "      <th>start station name</th>\n",
       "      <th>start station latitude</th>\n",
       "      <th>start station longitude</th>\n",
       "      <th>end station id</th>\n",
       "      <th>end station name</th>\n",
       "      <th>end station latitude</th>\n",
       "      <th>end station longitude</th>\n",
       "      <th>bikeid</th>\n",
       "      <th>usertype</th>\n",
       "      <th>birth year</th>\n",
       "      <th>gender</th>\n",
       "    </tr>\n",
       "  </thead>\n",
       "  <tbody>\n",
       "    <tr>\n",
       "      <th>0</th>\n",
       "      <td>196</td>\n",
       "      <td>2018-01-01 00:01:51</td>\n",
       "      <td>2018-01-01 00:05:07</td>\n",
       "      <td>315</td>\n",
       "      <td>South St &amp; Gouverneur Ln</td>\n",
       "      <td>40.703554</td>\n",
       "      <td>-74.006702</td>\n",
       "      <td>259</td>\n",
       "      <td>South St &amp; Whitehall St</td>\n",
       "      <td>40.701221</td>\n",
       "      <td>-74.012342</td>\n",
       "      <td>18534</td>\n",
       "      <td>Subscriber</td>\n",
       "      <td>1997.0</td>\n",
       "      <td>1</td>\n",
       "    </tr>\n",
       "    <tr>\n",
       "      <th>1</th>\n",
       "      <td>207</td>\n",
       "      <td>2018-01-01 00:02:44</td>\n",
       "      <td>2018-01-01 00:06:11</td>\n",
       "      <td>3224</td>\n",
       "      <td>W 13 St &amp; Hudson St</td>\n",
       "      <td>40.739974</td>\n",
       "      <td>-74.005139</td>\n",
       "      <td>470</td>\n",
       "      <td>W 20 St &amp; 8 Ave</td>\n",
       "      <td>40.743453</td>\n",
       "      <td>-74.000040</td>\n",
       "      <td>19651</td>\n",
       "      <td>Subscriber</td>\n",
       "      <td>1978.0</td>\n",
       "      <td>1</td>\n",
       "    </tr>\n",
       "    <tr>\n",
       "      <th>2</th>\n",
       "      <td>613</td>\n",
       "      <td>2018-01-01 00:03:15</td>\n",
       "      <td>2018-01-01 00:13:28</td>\n",
       "      <td>386</td>\n",
       "      <td>Centre St &amp; Worth St</td>\n",
       "      <td>40.714948</td>\n",
       "      <td>-74.002345</td>\n",
       "      <td>2008</td>\n",
       "      <td>Little West St &amp; 1 Pl</td>\n",
       "      <td>40.705693</td>\n",
       "      <td>-74.016777</td>\n",
       "      <td>21678</td>\n",
       "      <td>Subscriber</td>\n",
       "      <td>1982.0</td>\n",
       "      <td>1</td>\n",
       "    </tr>\n",
       "    <tr>\n",
       "      <th>3</th>\n",
       "      <td>375</td>\n",
       "      <td>2018-01-01 00:06:44</td>\n",
       "      <td>2018-01-01 00:12:59</td>\n",
       "      <td>466</td>\n",
       "      <td>W 25 St &amp; 6 Ave</td>\n",
       "      <td>40.743954</td>\n",
       "      <td>-73.991449</td>\n",
       "      <td>325</td>\n",
       "      <td>E 19 St &amp; 3 Ave</td>\n",
       "      <td>40.736245</td>\n",
       "      <td>-73.984738</td>\n",
       "      <td>29822</td>\n",
       "      <td>Subscriber</td>\n",
       "      <td>1982.0</td>\n",
       "      <td>1</td>\n",
       "    </tr>\n",
       "    <tr>\n",
       "      <th>4</th>\n",
       "      <td>402</td>\n",
       "      <td>2018-01-01 00:06:57</td>\n",
       "      <td>2018-01-01 00:13:40</td>\n",
       "      <td>438</td>\n",
       "      <td>St Marks Pl &amp; 1 Ave</td>\n",
       "      <td>40.727791</td>\n",
       "      <td>-73.985649</td>\n",
       "      <td>380</td>\n",
       "      <td>W 4 St &amp; 7 Ave S</td>\n",
       "      <td>40.734011</td>\n",
       "      <td>-74.002939</td>\n",
       "      <td>30722</td>\n",
       "      <td>Subscriber</td>\n",
       "      <td>1989.0</td>\n",
       "      <td>1</td>\n",
       "    </tr>\n",
       "  </tbody>\n",
       "</table>\n",
       "</div>"
      ],
      "text/plain": [
       "   tripduration            starttime             stoptime  start station id  \\\n",
       "0           196  2018-01-01 00:01:51  2018-01-01 00:05:07               315   \n",
       "1           207  2018-01-01 00:02:44  2018-01-01 00:06:11              3224   \n",
       "2           613  2018-01-01 00:03:15  2018-01-01 00:13:28               386   \n",
       "3           375  2018-01-01 00:06:44  2018-01-01 00:12:59               466   \n",
       "4           402  2018-01-01 00:06:57  2018-01-01 00:13:40               438   \n",
       "\n",
       "         start station name  start station latitude  start station longitude  \\\n",
       "0  South St & Gouverneur Ln               40.703554               -74.006702   \n",
       "1       W 13 St & Hudson St               40.739974               -74.005139   \n",
       "2      Centre St & Worth St               40.714948               -74.002345   \n",
       "3           W 25 St & 6 Ave               40.743954               -73.991449   \n",
       "4       St Marks Pl & 1 Ave               40.727791               -73.985649   \n",
       "\n",
       "   end station id         end station name  end station latitude  \\\n",
       "0             259  South St & Whitehall St             40.701221   \n",
       "1             470          W 20 St & 8 Ave             40.743453   \n",
       "2            2008    Little West St & 1 Pl             40.705693   \n",
       "3             325          E 19 St & 3 Ave             40.736245   \n",
       "4             380         W 4 St & 7 Ave S             40.734011   \n",
       "\n",
       "   end station longitude  bikeid    usertype  birth year  gender  \n",
       "0             -74.012342   18534  Subscriber      1997.0       1  \n",
       "1             -74.000040   19651  Subscriber      1978.0       1  \n",
       "2             -74.016777   21678  Subscriber      1982.0       1  \n",
       "3             -73.984738   29822  Subscriber      1982.0       1  \n",
       "4             -74.002939   30722  Subscriber      1989.0       1  "
      ]
     },
     "execution_count": 3,
     "metadata": {},
     "output_type": "execute_result"
    }
   ],
   "source": [
    "df.head(5)"
   ]
  },
  {
   "cell_type": "markdown",
   "metadata": {},
   "source": [
    "# EXPLORATION"
   ]
  },
  {
   "cell_type": "markdown",
   "metadata": {},
   "source": [
    "\"Citi Bike is a privately owned public bicycle sharing system serving the New York City boroughs of Manhattan, Queens, and Brooklyn, as well as Jersey City, New Jersey.\" (https://en.wikipedia.org/wiki/Citi_Bike).\n",
    "\n",
    "The company has been quite successful since its May 2013 opening, expanding from 332 stations and 6,000 bikes to 706 stations and 12,000 bikes as of October 2017.\n",
    "\n",
    "The dataset I'm using, from January 2018, reflects these numbers relatively closely."
   ]
  },
  {
   "cell_type": "code",
   "execution_count": 4,
   "metadata": {},
   "outputs": [
    {
     "name": "stdout",
     "output_type": "stream",
     "text": [
      "Number of Bikes:     10448\n",
      "Number of Stations:  763\n"
     ]
    }
   ],
   "source": [
    "print('Number of Bikes:    ', df.bikeid.nunique())\n",
    "print('Number of Stations: ', df['start station id'].nunique())"
   ]
  },
  {
   "cell_type": "markdown",
   "metadata": {},
   "source": [
    "To put things simply, Citi Bike's success is based on how frequently and how long its bikes are ridden. \n",
    "\n",
    "__The purpose of this experiment is to see if improvements to certain bikes will increase the frequency and/or duration that they are ridden, thus increasing profits.__\n",
    "\n",
    "As a secondary metric, we can see if an increase in total Citi Bike rides has a resulting impact on other local means of transportation such as taxis or ride sharing. \n",
    "\n",
    "These changes can benefit the company and potentially benefit the environment if more bikes are being used as opposed to polluting transportation methods.\n",
    "\n",
    "There are two categories of riders in this database in terms of payment styles, 'Customer' and 'Subscriber'. In the case of this experiment, I have decided to only take into account the riding habits of 'Customers'. The reasoning is as follows:\n",
    "\n",
    "Subscribers pay an annual membership fee of \\\\$169/year and get unlimited rides up to 45 minutes each, with a charge of \\\\$2.50 per each additional 15 minutes over 45. \n",
    "\n",
    "Customers typically opt for a single ride at \\\\$3/ride up to 30mins, or a day pass at \\\\$12/day for unlimited rides for a 24-hour period, with a charge of \\\\$4 per each additional 15 minutes over 30.\n",
    "\n",
    "This means that for most cases, trip frequency and duration do not matter when it comes to Subscribers.\n",
    "\n",
    "Only 3653 Subscriber trips out of 696894 recorded in this dataset exceeded 45 minutes.\n",
    "\n",
    "Meanwhile, 7677 Customer trips out of 22090 recorded exceeded 30 minutes, which is a far greater ratio than that of the Subscribers.\n",
    "\n",
    "As we can see, customer trips that exceed duration outnumber that of subscribers even though there are far greater subscriber trips in total."
   ]
  },
  {
   "cell_type": "code",
   "execution_count": 5,
   "metadata": {},
   "outputs": [
    {
     "name": "stdout",
     "output_type": "stream",
     "text": [
      "Subscriber Trips Exceeding 45min:  3653\n",
      "\n",
      "Customer Trips Exceeding 30min:  7677\n",
      "\n",
      "Total Trips by User Type: \n",
      " Subscriber    696894\n",
      "Customer       22090\n",
      "Name: usertype, dtype: int64\n"
     ]
    }
   ],
   "source": [
    "dfs = df[df.usertype == 'Subscriber']\n",
    "dfsx = dfs[dfs.tripduration > 2700]\n",
    "print('Subscriber Trips Exceeding 45min: ', len(dfsx.index))\n",
    "print()\n",
    "dfc = df[df.usertype == 'Customer']\n",
    "dfcx = dfc[dfc.tripduration > 1500]\n",
    "print('Customer Trips Exceeding 30min: ', len(dfcx.index))\n",
    "print()\n",
    "print('Total Trips by User Type: \\n', df.usertype.value_counts())"
   ]
  },
  {
   "cell_type": "markdown",
   "metadata": {},
   "source": [
    "This may be surprising, but there must be reasons for this.\n",
    "\n",
    "Subscribers likely use Citi Bikes for commuting, meaning they have fixed routes every trip.\n",
    "\n",
    "Customers, on the other hand, are likely more often renting the bikes for fun/tourism since they are visiting the city, meaning they are more likely to go on longer rides throughout the city. \n",
    "\n",
    "This theory is reinforced by the following:"
   ]
  },
  {
   "cell_type": "code",
   "execution_count": 6,
   "metadata": {},
   "outputs": [
    {
     "name": "stdout",
     "output_type": "stream",
     "text": [
      "Mean Subscriber Trip Duration:  690.7522004781215\n",
      "Mean Customer Trip Duration:   2177.9059755545495\n"
     ]
    }
   ],
   "source": [
    "print('Mean Subscriber Trip Duration: ', df[df['usertype'] == 'Subscriber'].tripduration.mean())\n",
    "print('Mean Customer Trip Duration:  ', df[df['usertype'] == 'Customer'].tripduration.mean())"
   ]
  },
  {
   "cell_type": "markdown",
   "metadata": {},
   "source": [
    "The point is, our end goal of increasing trip frequency and duration applies only to Citi Bike customers."
   ]
  },
  {
   "cell_type": "markdown",
   "metadata": {},
   "source": [
    "# EXPERIMENTATION"
   ]
  },
  {
   "cell_type": "markdown",
   "metadata": {},
   "source": [
    "Now, onto the experiment:\n",
    "\n",
    "Here are some potential upgrades that can be added onto certain bikes.\n",
    "\n",
    "POSSIBLE UPGRADES:\n",
    "\n",
    "1. Smart Halo - This gadget turns bikes into smartbikes. Guides you around via GPS, __tracks your fitness goals__, has an automatic night light and even has a personal assistant that can answer wuestions or take phone calls. I believe the fitness tracking aspect alone will lead to longer and/or more frequent rides.\n",
    "\n",
    "2. Attached Bluetooth Speaker (any) - This will increase enjoyment on bike rides, especially for those without headphones or other means of listening to music while riding. Could potentially increase duration of bike rides.\n",
    "|\n",
    "3. Improved Seat Cushion (any) - A more comfortable seat can definitely increase trip duration. From my own experience, Citi Bike seats are not the most comfortable and can leade to shorter trips when being ridden for leisure/tourism purposes."
   ]
  },
  {
   "cell_type": "markdown",
   "metadata": {},
   "source": [
    "For the sake of simplicity for this experiment, we will be choosing just one upgrate to fit to the bikes.\n",
    "\n",
    "In order to determine which upgrade to use, it would be a good idea to learn a little more about our customers. \n",
    "\n",
    "The most important factor would be age, but gender may matter if there is a large enough discrepency."
   ]
  },
  {
   "cell_type": "code",
   "execution_count": 7,
   "metadata": {},
   "outputs": [],
   "source": [
    "# make database of customers only\n",
    "df_c = df[df.usertype == 'Customer']"
   ]
  },
  {
   "cell_type": "code",
   "execution_count": 8,
   "metadata": {},
   "outputs": [
    {
     "name": "stdout",
     "output_type": "stream",
     "text": [
      "Mean Customer Age:  35.016081000595705\n",
      "Mean Male Customer Age:  35.712607944732326\n",
      "Mean Female Customer Age:  33.81972789115639\n"
     ]
    }
   ],
   "source": [
    "print('Mean Customer Age: ', 2019 - df_c['birth year'].mean())\n",
    "df_c_m = df_c[df.gender == 1]\n",
    "print('Mean Male Customer Age: ', 2019 - df_c_m['birth year'].mean())\n",
    "df_c_f = df_c[df.gender == 2]\n",
    "print('Mean Female Customer Age: ', 2019 - df_c_f['birth year'].mean())"
   ]
  },
  {
   "cell_type": "code",
   "execution_count": 9,
   "metadata": {},
   "outputs": [
    {
     "data": {
      "text/plain": [
       "<matplotlib.axes._subplots.AxesSubplot at 0x1a572870>"
      ]
     },
     "execution_count": 9,
     "metadata": {},
     "output_type": "execute_result"
    },
    {
     "data": {
      "image/png": "[encoded data removed]",
      "text/plain": [
       "<Figure size 720x360 with 1 Axes>"
      ]
     },
     "metadata": {
      "needs_background": "light"
     },
     "output_type": "display_data"
    }
   ],
   "source": [
    "# remove 'unknown' genders\n",
    "df_c_mf = df_c[df_c.gender != 0]\n",
    "df_c_mf.gender.value_counts().plot(kind='bar', figsize=(10,5), linewidth=1, title='Customer Gender')"
   ]
  },
  {
   "cell_type": "code",
   "execution_count": 10,
   "metadata": {},
   "outputs": [
    {
     "name": "stdout",
     "output_type": "stream",
     "text": [
      "Male/Female Ratio:  1.4067055393586005\n"
     ]
    }
   ],
   "source": [
    "print('Male/Female Ratio: ', len(df_c[df_c.gender == 1]) / len(df_c[df_c.gender == 2]))"
   ]
  },
  {
   "cell_type": "markdown",
   "metadata": {},
   "source": [
    "As we can see, the mean customer age is about 35yrs, with only slight variation by age.\n",
    "\n",
    "There are more male than female customers at a 1.4 ratio, but I do not believe that is significant enough to factor into upgrade choice.\n",
    "\n",
    "Based on these factors, we will go with the Smart Halo attachment.\n",
    "\n",
    "If the average age was a bit older, say, 40-50yrs+, I would have opted for a different upgrade, since that demographic would be less likely to know how or care to utilize the technology.\n",
    "\n",
    "The bluetooth speaker was considered, but it doesn't have as many uses as the Smart Halo, and many customers in their 30s have their own means of listening to music on the go. \n",
    "\n",
    "I believe the Smart Halo is the perfect upgrade for this demographic, since they are young enough to be in touch with technology and likely have a general interest in fitness & fitness goals. This will in theory lead to longer and more frequent rides."
   ]
  },
  {
   "cell_type": "markdown",
   "metadata": {},
   "source": [
    "# ROLLOUT PLAN"
   ]
  },
  {
   "cell_type": "markdown",
   "metadata": {},
   "source": [
    "Upgrades will be added to select bikes throughout the city, equally distributed.\n",
    "\n",
    "For a 1-month experiment:\n",
    "\n",
    "Ideally, 10% of bikes will be modified for the first two weeks, then up to 50% for the next two weeks."
   ]
  },
  {
   "cell_type": "markdown",
   "metadata": {},
   "source": [
    "In terms of tracking the data, a column will be added to determine whether a certain bikeid has been modified, and a column will be added to track revenue of each trip, assuming each trip is a single ride (for simplicity & lack of specification within data) and accounting for overage penalties. This implementation is demonstrated below:"
   ]
  },
  {
   "cell_type": "code",
   "execution_count": 11,
   "metadata": {},
   "outputs": [
    {
     "data": {
      "text/html": [
       "<div>\n",
       "<style scoped>\n",
       "    .dataframe tbody tr th:only-of-type {\n",
       "        vertical-align: middle;\n",
       "    }\n",
       "\n",
       "    .dataframe tbody tr th {\n",
       "        vertical-align: top;\n",
       "    }\n",
       "\n",
       "    .dataframe thead th {\n",
       "        text-align: right;\n",
       "    }\n",
       "</style>\n",
       "<table border=\"1\" class=\"dataframe\">\n",
       "  <thead>\n",
       "    <tr style=\"text-align: right;\">\n",
       "      <th></th>\n",
       "      <th>tripduration</th>\n",
       "      <th>starttime</th>\n",
       "      <th>stoptime</th>\n",
       "      <th>start station id</th>\n",
       "      <th>start station name</th>\n",
       "      <th>start station latitude</th>\n",
       "      <th>start station longitude</th>\n",
       "      <th>end station id</th>\n",
       "      <th>end station name</th>\n",
       "      <th>end station latitude</th>\n",
       "      <th>end station longitude</th>\n",
       "      <th>bikeid</th>\n",
       "      <th>usertype</th>\n",
       "      <th>birth year</th>\n",
       "      <th>gender</th>\n",
       "      <th>revenue</th>\n",
       "    </tr>\n",
       "  </thead>\n",
       "  <tbody>\n",
       "    <tr>\n",
       "      <th>1070</th>\n",
       "      <td>1609</td>\n",
       "      <td>2018-01-01 10:49:22</td>\n",
       "      <td>2018-01-01 11:16:11</td>\n",
       "      <td>3146</td>\n",
       "      <td>E 81 St &amp; 3 Ave</td>\n",
       "      <td>40.775730</td>\n",
       "      <td>-73.956753</td>\n",
       "      <td>3162</td>\n",
       "      <td>W 78 St &amp; Broadway</td>\n",
       "      <td>40.783400</td>\n",
       "      <td>-73.980931</td>\n",
       "      <td>17996</td>\n",
       "      <td>Customer</td>\n",
       "      <td>NaN</td>\n",
       "      <td>0</td>\n",
       "      <td>3</td>\n",
       "    </tr>\n",
       "    <tr>\n",
       "      <th>1092</th>\n",
       "      <td>1544</td>\n",
       "      <td>2018-01-01 10:53:42</td>\n",
       "      <td>2018-01-01 11:19:27</td>\n",
       "      <td>3057</td>\n",
       "      <td>Kosciuszko St &amp; Tompkins Ave</td>\n",
       "      <td>40.691283</td>\n",
       "      <td>-73.945242</td>\n",
       "      <td>343</td>\n",
       "      <td>Clinton Ave &amp; Flushing Ave</td>\n",
       "      <td>40.697940</td>\n",
       "      <td>-73.969868</td>\n",
       "      <td>31421</td>\n",
       "      <td>Customer</td>\n",
       "      <td>1989.0</td>\n",
       "      <td>2</td>\n",
       "      <td>3</td>\n",
       "    </tr>\n",
       "    <tr>\n",
       "      <th>1128</th>\n",
       "      <td>18295</td>\n",
       "      <td>2018-01-01 11:01:37</td>\n",
       "      <td>2018-01-01 16:06:33</td>\n",
       "      <td>274</td>\n",
       "      <td>Lafayette Ave &amp; Fort Greene Pl</td>\n",
       "      <td>40.686919</td>\n",
       "      <td>-73.976682</td>\n",
       "      <td>3417</td>\n",
       "      <td>Baltic St &amp; 5 Ave</td>\n",
       "      <td>40.679577</td>\n",
       "      <td>-73.978550</td>\n",
       "      <td>25539</td>\n",
       "      <td>Customer</td>\n",
       "      <td>1978.0</td>\n",
       "      <td>1</td>\n",
       "      <td>75</td>\n",
       "    </tr>\n",
       "    <tr>\n",
       "      <th>1210</th>\n",
       "      <td>617</td>\n",
       "      <td>2018-01-01 11:17:22</td>\n",
       "      <td>2018-01-01 11:27:39</td>\n",
       "      <td>295</td>\n",
       "      <td>Pike St &amp; E Broadway</td>\n",
       "      <td>40.714067</td>\n",
       "      <td>-73.992939</td>\n",
       "      <td>279</td>\n",
       "      <td>Peck Slip &amp; Front St</td>\n",
       "      <td>40.707873</td>\n",
       "      <td>-74.001670</td>\n",
       "      <td>17162</td>\n",
       "      <td>Customer</td>\n",
       "      <td>NaN</td>\n",
       "      <td>0</td>\n",
       "      <td>3</td>\n",
       "    </tr>\n",
       "    <tr>\n",
       "      <th>1248</th>\n",
       "      <td>1026</td>\n",
       "      <td>2018-01-01 11:25:19</td>\n",
       "      <td>2018-01-01 11:42:25</td>\n",
       "      <td>257</td>\n",
       "      <td>Lispenard St &amp; Broadway</td>\n",
       "      <td>40.719392</td>\n",
       "      <td>-74.002472</td>\n",
       "      <td>330</td>\n",
       "      <td>Reade St &amp; Broadway</td>\n",
       "      <td>40.714505</td>\n",
       "      <td>-74.005628</td>\n",
       "      <td>32245</td>\n",
       "      <td>Customer</td>\n",
       "      <td>NaN</td>\n",
       "      <td>0</td>\n",
       "      <td>3</td>\n",
       "    </tr>\n",
       "  </tbody>\n",
       "</table>\n",
       "</div>"
      ],
      "text/plain": [
       "      tripduration            starttime             stoptime  \\\n",
       "1070          1609  2018-01-01 10:49:22  2018-01-01 11:16:11   \n",
       "1092          1544  2018-01-01 10:53:42  2018-01-01 11:19:27   \n",
       "1128         18295  2018-01-01 11:01:37  2018-01-01 16:06:33   \n",
       "1210           617  2018-01-01 11:17:22  2018-01-01 11:27:39   \n",
       "1248          1026  2018-01-01 11:25:19  2018-01-01 11:42:25   \n",
       "\n",
       "      start station id              start station name  \\\n",
       "1070              3146                 E 81 St & 3 Ave   \n",
       "1092              3057    Kosciuszko St & Tompkins Ave   \n",
       "1128               274  Lafayette Ave & Fort Greene Pl   \n",
       "1210               295            Pike St & E Broadway   \n",
       "1248               257         Lispenard St & Broadway   \n",
       "\n",
       "      start station latitude  start station longitude  end station id  \\\n",
       "1070               40.775730               -73.956753            3162   \n",
       "1092               40.691283               -73.945242             343   \n",
       "1128               40.686919               -73.976682            3417   \n",
       "1210               40.714067               -73.992939             279   \n",
       "1248               40.719392               -74.002472             330   \n",
       "\n",
       "                end station name  end station latitude  end station longitude  \\\n",
       "1070          W 78 St & Broadway             40.783400             -73.980931   \n",
       "1092  Clinton Ave & Flushing Ave             40.697940             -73.969868   \n",
       "1128           Baltic St & 5 Ave             40.679577             -73.978550   \n",
       "1210        Peck Slip & Front St             40.707873             -74.001670   \n",
       "1248         Reade St & Broadway             40.714505             -74.005628   \n",
       "\n",
       "      bikeid  usertype  birth year  gender  revenue  \n",
       "1070   17996  Customer         NaN       0        3  \n",
       "1092   31421  Customer      1989.0       2        3  \n",
       "1128   25539  Customer      1978.0       1       75  \n",
       "1210   17162  Customer         NaN       0        3  \n",
       "1248   32245  Customer         NaN       0        3  "
      ]
     },
     "execution_count": 11,
     "metadata": {},
     "output_type": "execute_result"
    }
   ],
   "source": [
    "# PRICING FUNCTION\n",
    "# #1\n",
    "# Each trip assumed to be single ride = $3\n",
    "# Every 15min over 30min is +4\n",
    "\n",
    "def revenue(d):\n",
    "    x = d.tripduration\n",
    "    if (x > 1800):\n",
    "        x = int((x - 1800) / 900)\n",
    "        y = x * 4 + 3\n",
    "    else: \n",
    "        y = 3\n",
    "    return y\n",
    "\n",
    "df_c_c = df_c\n",
    "df_c_c['revenue'] = df_c.apply(revenue, axis=1)\n",
    "\n",
    "df_c_c[20:25]"
   ]
  },
  {
   "cell_type": "markdown",
   "metadata": {},
   "source": [
    "In order to avoid bias, past trends will need to be evaluated. For example, here is some pieces of information from this month:"
   ]
  },
  {
   "cell_type": "code",
   "execution_count": 12,
   "metadata": {},
   "outputs": [],
   "source": [
    "# GROUP BY DAY\n",
    "# ADD DAY COLUMN\n",
    "df_c.starttime = pd.to_datetime(df_c.starttime)\n",
    "df_c['day'] = df_c.starttime.apply(lambda x: x.strftime(\"%d\"))"
   ]
  },
  {
   "cell_type": "code",
   "execution_count": 13,
   "metadata": {},
   "outputs": [
    {
     "data": {
      "text/plain": [
       "<matplotlib.axes._subplots.AxesSubplot at 0x1ace08d0>"
      ]
     },
     "execution_count": 13,
     "metadata": {},
     "output_type": "execute_result"
    },
    {
     "data": {
      "image/png": "[encoded data removed]",
      "text/plain": [
       "<Figure size 1080x360 with 1 Axes>"
      ]
     },
     "metadata": {
      "needs_background": "light"
     },
     "output_type": "display_data"
    }
   ],
   "source": [
    "df_c.groupby(['day']).tripduration.mean().plot(kind='bar', figsize=(15,5), linewidth=1, title='Mean Trip Duration by Day (Customers)')"
   ]
  },
  {
   "cell_type": "code",
   "execution_count": 14,
   "metadata": {},
   "outputs": [
    {
     "data": {
      "text/plain": [
       "<matplotlib.axes._subplots.AxesSubplot at 0x1b2c8b50>"
      ]
     },
     "execution_count": 14,
     "metadata": {},
     "output_type": "execute_result"
    },
    {
     "data": {
      "image/png": "[encoded data removed]",
      "text/plain": [
       "<Figure size 1080x360 with 1 Axes>"
      ]
     },
     "metadata": {
      "needs_background": "light"
     },
     "output_type": "display_data"
    }
   ],
   "source": [
    "df_c.day.value_counts().plot(kind='bar', figsize=(15,5), linewidth=1, title='Number of Trips by Day (Customers)')"
   ]
  },
  {
   "cell_type": "code",
   "execution_count": 15,
   "metadata": {},
   "outputs": [
    {
     "data": {
      "text/plain": [
       "<matplotlib.axes._subplots.AxesSubplot at 0x1a2fa7d0>"
      ]
     },
     "execution_count": 15,
     "metadata": {},
     "output_type": "execute_result"
    },
    {
     "data": {
      "image/png": "[encoded data removed]",
      "text/plain": [
       "<Figure size 1080x360 with 1 Axes>"
      ]
     },
     "metadata": {
      "needs_background": "light"
     },
     "output_type": "display_data"
    }
   ],
   "source": [
    "df_c.groupby(['day']).revenue.sum().plot(kind='bar', figsize=(15,5), linewidth=1, title='Revenue by Day (Customers)')"
   ]
  },
  {
   "cell_type": "markdown",
   "metadata": {},
   "source": [
    "As we can see, while average trip duration remained fairly constant, revenue generated by customers seems to have increased during the second half of the month due to increased trip frequency. This phenomenon is worth looking into more closely to find out what caused it and whether it could be a factor in the experimentation month that could add a bias."
   ]
  },
  {
   "cell_type": "markdown",
   "metadata": {},
   "source": [
    "# SUCCESS METRICS"
   ]
  },
  {
   "cell_type": "markdown",
   "metadata": {},
   "source": [
    "An additional pricing strategy may be implemented as well.\n",
    "\n",
    "Bikes fitted with the smart devices can be given 'premium' pricing. One of three things will result from this model based on how customers respond.\n",
    "\n",
    "1. Customers won't be willing to spend the extra money for the upgraded bikes. Upgraded bikes will generate significantly less revenue than the normal bikes.\n",
    "\n",
    "2. Enough customers will opt for the upgrated bikes to generate about the same revenue as the normal bikes. Break even.\n",
    "\n",
    "3. Many customers are willing to spend extra for the upgraded bikes. Upgraded bikes will generate significantly more revenue than the normal bikes.\n",
    "\n",
    "Obviously, outcome 3 would mean the experiment was a success. However, in the case of outcome 2, it could be worth continuing the experiment for an additional week/month to see if the upgraded bikes' success sways in either direction.\n",
    "\n",
    "At the end of the experimentation period, revenue generated by modified vs unmodified bikes (daily, weekly, etc) will be compared with a T-test.\n",
    "\n",
    "A P-value greater than .05 will show that there is a significant increase in revenue generated by upgraded bikes.\n",
    "\n",
    "Lastly, following the experiment, it could be worth collecting data from other transportation services and comparing it to our data over the same period. If we are able to show a relationship between the increase in upgraded bikes and a decrease in use of other forms of public transportation such as busses, taxis, ride shares or other motor vehicles, we can conclude that the experiment had a positive effect on the environment."
   ]
  },
  {
   "cell_type": "markdown",
   "metadata": {},
   "source": [
    "# REFERENCES"
   ]
  },
  {
   "cell_type": "markdown",
   "metadata": {},
   "source": [
    "Dataset: https://data.world/citibikenyc/citibike-tripdata-january-2018\n",
    "\n",
    "Citi Bike Specs: https://www.citibikenyc.com/how-it-works/meet-the-bike\n",
    "\n",
    "Citi Bike Pricing: https://www.citibikenyc.com/pricing\n",
    "\n",
    "Smart Halo: https://www.amazon.com/SmartHalo-Accessory-Navigation-Anti-Theft-Speedometer/dp/B071WMZFFZ/ref=as_li_ss_tl?ie=UTF8&linkCode=sl1&tag=travgadg-20&linkId=a7a40618b96e6ab2ff2f2b472a2ec804&language=en_US\n",
    "\n",
    "Bluetooth Speaker Example: https://www.amazon.com/Bluetooth-Speaker-System-Celtic-Blu/dp/B01LY6UKCL/ref=as_li_ss_tl?ie=UTF8&linkCode=sl1&tag=travgadg-20&linkId=2974c6a27ad05e05612d2a99839fa8fa&language=en_US\n",
    "\n",
    "Seat Cushion Example: https://www.amazon.com/Zacro-Cover-BS031-Extra-Bicycle/dp/B01H71AZ36/ref=as_li_ss_tl?ie=UTF8&qid=1522178670&sr=8-19&keywords=bike+accessories&linkCode=sl1&tag=brobible-20&linkId=429446966a8fec33e28c7bb14ccb2eef"
   ]
  }
 ],
 "metadata": {
  "kernelspec": {
   "display_name": "Python 3",
   "language": "python",
   "name": "python3"
  },
  "language_info": {
   "codemirror_mode": {
    "name": "ipython",
    "version": 3
   },
   "file_extension": ".py",
   "mimetype": "text/x-python",
   "name": "python",
   "nbconvert_exporter": "python",
   "pygments_lexer": "ipython3",
   "version": "3.7.2"
  }
 },
 "nbformat": 4,
 "nbformat_minor": 4
}
