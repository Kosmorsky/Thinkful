{
 "cells": [
  {
   "cell_type": "markdown",
   "metadata": {},
   "source": [
    "# NBA Free Throws - Analysis of Outside Factors"
   ]
  },
  {
   "cell_type": "markdown",
   "metadata": {},
   "source": [
    "This is an analysis of free throws in the NBA.\n",
    "\n",
    "The data consists of every free throw taken from the 2006-2016 NBA seasons.\n",
    "\n",
    "618,019 free throws in total.\n",
    "\n",
    "\n",
    "\n",
    "__Formal:__\n",
    "\n",
    "Making a free throw should be a simple task for the best basketball players in the world, right?\n",
    "\n",
    "For most players in the NBA, this is generally the case, with the league average free throw percentage sitting just above 75%.\n",
    "\n",
    "Some players, however, have a serious struggle with the shot, sometimes even [famously](https://en.wikipedia.org/wiki/Hack-a-Shaq).\n",
    "\n",
    "Overall, there's quite a significant discrepency of free throw accuracy between NBA players, with the best percentage of the 2018-2019 season being .928, held by Malcolm Brogdon, and the lowest being .449, achieved by Hassan Whiteside. (basketball-reference.com - out of players with at least 200 free throws in the season).\n",
    "\n",
    "The point of all this babbling is that a made free throw is highly dependent on individual player skill.\n",
    "\n",
    "But are there other factors that can affect a free throw shot during a game, such as time left, game importance or even the current game score?\n",
    "\n",
    "__Are these factors significant enough to show free throw trends that transcend individual player skill?__\n",
    "\n",
    "The specific questions I will be addressing in this report in order to come to a conclusion are:\n",
    "1. Do players shoot free throws better or worse in playoff games?\n",
    "2. Do players shoot better in certain quarters of the game?\n",
    "3. How well do players generally shoot in clutch time (defined later)?\n",
    "\n",
    "To answer these questions I will be analyzing a dataset of every free throw taken in the NBA from 2006 to 2016, which consists of 610,019 free throws in chronological order, the players who took them, the teams that were playing, the end results of the games, whether the games were playoff or regular season, and the current period, time and score of the game at the time of the shot.\n",
   ]
  },
  {
   "cell_type": "code",
   "execution_count": 1,
   "metadata": {},
   "outputs": [],
   "source": [
    "import numpy as np\n",
    "import pandas as pd\n",
    "import matplotlib.pyplot as plt\n",
    "from scipy.stats import ttest_ind\n",
    "%matplotlib inline"
   ]
  },
  {
   "cell_type": "code",
   "execution_count": 2,
   "metadata": {},
   "outputs": [],
   "source": [
    "df = pd.read_csv('free_throws.csv', engine='python')\n",
    "#print(df)"
   ]
  },
  {
   "cell_type": "code",
   "execution_count": 3,
   "metadata": {},
   "outputs": [],
   "source": [
    "#pie chart maker. most common chart used in report\n",
    "labels = ['Made', 'Missed']\n",
    "colors = ['green', 'red']\n",
    "explode = [0, 0.1]\n",
    "def makepie(data, title):\n",
    "    plt.pie(data.value_counts(), autopct='%1.1f%%', labels=labels, colors=colors, explode=explode)\n",
    "    plt.title(title)"
   ]
  },
  {
   "cell_type": "markdown",
   "metadata": {},
   "source": [
    "# Dataframe Preview"
   ]
  },
  {
   "cell_type": "code",
   "execution_count": 4,
   "metadata": {},
   "outputs": [
    {
     "data": {
      "text/html": [
       "<div>\n",
       "<style scoped>\n",
       "    .dataframe tbody tr th:only-of-type {\n",
       "        vertical-align: middle;\n",
       "    }\n",
       "\n",
       "    .dataframe tbody tr th {\n",
       "        vertical-align: top;\n",
       "    }\n",
       "\n",
       "    .dataframe thead th {\n",
       "        text-align: right;\n",
       "    }\n",
       "</style>\n",
       "<table border=\"1\" class=\"dataframe\">\n",
       "  <thead>\n",
       "    <tr style=\"text-align: right;\">\n",
       "      <th></th>\n",
       "      <th>end_result</th>\n",
       "      <th>game</th>\n",
       "      <th>game_id</th>\n",
       "      <th>period</th>\n",
       "      <th>play</th>\n",
       "      <th>player</th>\n",
       "      <th>playoffs</th>\n",
       "      <th>score</th>\n",
       "      <th>season</th>\n",
       "      <th>shot_made</th>\n",
       "      <th>time</th>\n",
       "    </tr>\n",
       "  </thead>\n",
       "  <tbody>\n",
       "    <tr>\n",
       "      <th>0</th>\n",
       "      <td>106 - 114</td>\n",
       "      <td>PHX - LAL</td>\n",
       "      <td>261031013.0</td>\n",
       "      <td>1.0</td>\n",
       "      <td>Andrew Bynum makes free throw 1 of 2</td>\n",
       "      <td>Andrew Bynum</td>\n",
       "      <td>regular</td>\n",
       "      <td>0 - 1</td>\n",
       "      <td>2006 - 2007</td>\n",
       "      <td>1</td>\n",
       "      <td>11:45</td>\n",
       "    </tr>\n",
       "    <tr>\n",
       "      <th>1</th>\n",
       "      <td>106 - 114</td>\n",
       "      <td>PHX - LAL</td>\n",
       "      <td>261031013.0</td>\n",
       "      <td>1.0</td>\n",
       "      <td>Andrew Bynum makes free throw 2 of 2</td>\n",
       "      <td>Andrew Bynum</td>\n",
       "      <td>regular</td>\n",
       "      <td>0 - 2</td>\n",
       "      <td>2006 - 2007</td>\n",
       "      <td>1</td>\n",
       "      <td>11:45</td>\n",
       "    </tr>\n",
       "    <tr>\n",
       "      <th>2</th>\n",
       "      <td>106 - 114</td>\n",
       "      <td>PHX - LAL</td>\n",
       "      <td>261031013.0</td>\n",
       "      <td>1.0</td>\n",
       "      <td>Andrew Bynum makes free throw 1 of 2</td>\n",
       "      <td>Andrew Bynum</td>\n",
       "      <td>regular</td>\n",
       "      <td>18 - 12</td>\n",
       "      <td>2006 - 2007</td>\n",
       "      <td>1</td>\n",
       "      <td>7:26</td>\n",
       "    </tr>\n",
       "    <tr>\n",
       "      <th>3</th>\n",
       "      <td>106 - 114</td>\n",
       "      <td>PHX - LAL</td>\n",
       "      <td>261031013.0</td>\n",
       "      <td>1.0</td>\n",
       "      <td>Andrew Bynum misses free throw 2 of 2</td>\n",
       "      <td>Andrew Bynum</td>\n",
       "      <td>regular</td>\n",
       "      <td>18 - 12</td>\n",
       "      <td>2006 - 2007</td>\n",
       "      <td>0</td>\n",
       "      <td>7:26</td>\n",
       "    </tr>\n",
       "    <tr>\n",
       "      <th>4</th>\n",
       "      <td>106 - 114</td>\n",
       "      <td>PHX - LAL</td>\n",
       "      <td>261031013.0</td>\n",
       "      <td>1.0</td>\n",
       "      <td>Shawn Marion makes free throw 1 of 1</td>\n",
       "      <td>Shawn Marion</td>\n",
       "      <td>regular</td>\n",
       "      <td>21 - 12</td>\n",
       "      <td>2006 - 2007</td>\n",
       "      <td>1</td>\n",
       "      <td>7:18</td>\n",
       "    </tr>\n",
       "    <tr>\n",
       "      <th>5</th>\n",
       "      <td>106 - 114</td>\n",
       "      <td>PHX - LAL</td>\n",
       "      <td>261031013.0</td>\n",
       "      <td>1.0</td>\n",
       "      <td>Amare Stoudemire makes free throw 1 of 2</td>\n",
       "      <td>Amare Stoudemire</td>\n",
       "      <td>regular</td>\n",
       "      <td>33 - 20</td>\n",
       "      <td>2006 - 2007</td>\n",
       "      <td>1</td>\n",
       "      <td>3:15</td>\n",
       "    </tr>\n",
       "  </tbody>\n",
       "</table>\n",
       "</div>"
      ],
      "text/plain": [
       "  end_result       game      game_id  period  \\\n",
       "0  106 - 114  PHX - LAL  261031013.0     1.0   \n",
       "1  106 - 114  PHX - LAL  261031013.0     1.0   \n",
       "2  106 - 114  PHX - LAL  261031013.0     1.0   \n",
       "3  106 - 114  PHX - LAL  261031013.0     1.0   \n",
       "4  106 - 114  PHX - LAL  261031013.0     1.0   \n",
       "5  106 - 114  PHX - LAL  261031013.0     1.0   \n",
       "\n",
       "                                       play            player playoffs  \\\n",
       "0      Andrew Bynum makes free throw 1 of 2      Andrew Bynum  regular   \n",
       "1      Andrew Bynum makes free throw 2 of 2      Andrew Bynum  regular   \n",
       "2      Andrew Bynum makes free throw 1 of 2      Andrew Bynum  regular   \n",
       "3     Andrew Bynum misses free throw 2 of 2      Andrew Bynum  regular   \n",
       "4      Shawn Marion makes free throw 1 of 1      Shawn Marion  regular   \n",
       "5  Amare Stoudemire makes free throw 1 of 2  Amare Stoudemire  regular   \n",
       "\n",
       "     score       season  shot_made   time  \n",
       "0    0 - 1  2006 - 2007          1  11:45  \n",
       "1    0 - 2  2006 - 2007          1  11:45  \n",
       "2  18 - 12  2006 - 2007          1   7:26  \n",
       "3  18 - 12  2006 - 2007          0   7:26  \n",
       "4  21 - 12  2006 - 2007          1   7:18  \n",
       "5  33 - 20  2006 - 2007          1   3:15  "
      ]
     },
     "execution_count": 4,
     "metadata": {},
     "output_type": "execute_result"
    }
   ],
   "source": [
    "df[:6]"
   ]
  },
  {
   "cell_type": "markdown",
   "metadata": {},
   "source": [
    "# Shots by Player"
   ]
  },
  {
   "cell_type": "code",
   "execution_count": 5,
   "metadata": {},
   "outputs": [
    {
     "data": {
      "text/plain": [
       "Text(0, 0.5, '# of Free Throws')"
      ]
     },
     "execution_count": 5,
     "metadata": {},
     "output_type": "execute_result"
    },
    {
     "data": {
      "image/png": "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\n",
      "text/plain": [
       "<Figure size 1080x360 with 1 Axes>"
      ]
     },
     "metadata": {
      "needs_background": "light"
     },
     "output_type": "display_data"
    }
   ],
   "source": [
    "players = df['player']\n",
    "\n",
    "#PLAYERS - TOTAL SHOTS\n",
    "players.value_counts().head(20).plot(kind='bar', figsize=(15,5), edgecolor='black', linewidth=1, title='Players With Most Free Throws Taken from 2006-2016 (Top 20)')\n",
    "plt.ylabel('# of Free Throws')"
   ]
  },
  {
   "cell_type": "markdown",
   "metadata": {},
   "source": [
    "This is a bar chart showing the 20 NBA players with the most free throws taken from 2006-2016.\n",
    "\n",
    "While it's true that better players get fouled more and thus take more free throws, which could sway the data, the best players in the NBA are not necessarily the best free throw shooters.\n",
    "\n",
    "In fact, the top two players on this list, LeBron James and Dwight Howard, both shoot them below the average, at 73.6% and 56.7% respectively. (basketball-reference.com)"
   ]
  },
  {
   "cell_type": "markdown",
   "metadata": {},
   "source": [
    "# Total Free Throw %"
   ]
  },
  {
   "cell_type": "code",
   "execution_count": 6,
   "metadata": {},
   "outputs": [
    {
     "data": {
      "image/png": "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\n",
      "text/plain": [
       "<Figure size 720x432 with 1 Axes>"
      ]
     },
     "metadata": {},
     "output_type": "display_data"
    }
   ],
   "source": [
    "shots_made = df['shot_made']\n",
    "\n",
    "#PIE CHART - TOTAL FT%\n",
    "plt.figure(figsize=(10,6))\n",
    "\n",
    "makepie(shots_made, 'Total Free Throw % From 2006-2016')\n",
    "\n",
    "plt.show()"
   ]
  },
  {
   "cell_type": "markdown",
   "metadata": {},
   "source": [
    "As I mentioned before, the average NBA free throw percentage sits just above 75%\n",
    "\n",
    "Let's see how averages are affected based on a variety of circumstances."
   ]
  },
  {
   "cell_type": "markdown",
   "metadata": {},
   "source": [
    "# Free Throw % in Playoffs vs Regular Season"
   ]
  },
  {
   "cell_type": "code",
   "execution_count": 7,
   "metadata": {
    "scrolled": true
   },
   "outputs": [
    {
     "data": {
      "image/png": "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\n",
      "text/plain": [
       "<Figure size 720x360 with 2 Axes>"
      ]
     },
     "metadata": {},
     "output_type": "display_data"
    }
   ],
   "source": [
    "#2 PIE CHARTS - FT% PLAYOFFS vs FT% REGULAR SEASON\n",
    "playoff_games = df[df['playoffs'] == 'playoffs']\n",
    "regular_games = df[df['playoffs'] != 'playoffs']\n",
    "\n",
    "shots_made_p = playoff_games['shot_made']\n",
    "shots_made_r = regular_games['shot_made']\n",
    "\n",
    "#PLOT\n",
    "plt.figure(figsize=(10,5))\n",
    "\n",
    "plt.subplot(1, 2, 1)\n",
    "makepie(shots_made_r, 'Regular Season')\n",
    "\n",
    "plt.subplot(1, 2, 2)\n",
    "makepie(shots_made_p, 'Playoffs')\n",
    "\n",
    "#plt.tight_layout()\n",
    "\n",
    "plt.show()"
   ]
  },
  {
   "cell_type": "markdown",
   "metadata": {},
   "source": [
    "These pie charts show the percentages of free throws made in the regular season and the playoffs, respectively.\n",
    "\n",
    "We can see that there's a difference of .4% between regular season and playoff shooting, but is this a significant difference or the result of a smaller playoff sample size?\n",
    "\n",
    "Let's find out..."
   ]
  },
  {
   "cell_type": "code",
   "execution_count": 8,
   "metadata": {},
   "outputs": [
    {
     "data": {
      "image/png": "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\n",
      "text/plain": [
       "<Figure size 1080x360 with 2 Axes>"
      ]
     },
     "metadata": {
      "needs_background": "light"
     },
     "output_type": "display_data"
    }
   ],
   "source": [
    "#seperate playoff/regular datasets\n",
    "dfp = df[df['playoffs'] == 'playoffs']\n",
    "dfr = df[df['playoffs'] == 'regular']\n",
    "\n",
    "#group by game\n",
    "playoff_games = dfp.groupby('game_id')\n",
    "regular_games = dfr.groupby('game_id')\n",
    "\n",
    "#get avg FT% per game\n",
    "playoff_game_avg = playoff_games['shot_made'].agg(np.mean)\n",
    "regular_game_avg = regular_games['shot_made'].agg(np.mean)\n",
    "\n",
    "#PLOT\n",
    "plt.figure(figsize=(15,5))\n",
    "\n",
    "plt.subplot(1, 2, 1)\n",
    "plt.hist(regular_game_avg, alpha=0.5, label='Regular Season Games')\n",
    "plt.hist(playoff_game_avg, alpha=0.5, label='Playoff Games') \n",
    "plt.legend(loc = 'upper left')\n",
    "plt.title('FT% Per Game - Season vs Playoffs (2006-2016)')\n",
    "plt.xlabel('Free Throw %')\n",
    "plt.ylabel('# Games')\n",
    "\n",
    "plt.subplot(1, 2, 2)\n",
    "plt.hist(regular_game_avg, alpha=0.5, label='Regular Season Games', density=True)\n",
    "plt.hist(playoff_game_avg, alpha=0.5, label='Playoff Games', density=True) \n",
    "plt.legend(loc = 'upper left')\n",
    "plt.title('FT% Per Game - Season vs Playoffs (2006-2016) - Normalized')\n",
    "plt.xlabel('Free Throw %')\n",
    "\n",
    "plt.show()"
   ]
  },
  {
   "cell_type": "markdown",
   "metadata": {},
   "source": [
    "Here I compared the distribution of free throw percentages per game of regular season games and playoff games. \n",
    "\n",
    "After normalizing the plots, the two distributions seem similar upon an eye-test.\n",
    "\n",
    "By performing a T-test on the distributions we can further determine whether the .4% total shooting difference is significant."
   ]
  },
  {
   "cell_type": "code",
   "execution_count": 9,
   "metadata": {},
   "outputs": [
    {
     "data": {
      "text/plain": [
       "Ttest_indResult(statistic=1.718867005932505, pvalue=0.08596099554908057)"
      ]
     },
     "execution_count": 9,
     "metadata": {},
     "output_type": "execute_result"
    }
   ],
   "source": [
    "ttest_ind(regular_game_avg, playoff_game_avg, equal_var=False)"
   ]
  },
  {
   "cell_type": "markdown",
   "metadata": {},
   "source": [
    "The low T-value and relatively high P-value here indicates that there is NOT a significant difference in playoff free throw shooting compared to the regular season.\n",
    "\n",
    "Next, we'll take a look at shooting averages in each quarter of a game."
   ]
  },
  {
   "cell_type": "markdown",
   "metadata": {},
   "source": [
    "# Free Throw % Per Quarter"
   ]
  },
  {
   "cell_type": "code",
   "execution_count": 10,
   "metadata": {},
   "outputs": [
    {
     "data": {
      "image/png": "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\n",
      "text/plain": [
       "<Figure size 1080x360 with 4 Axes>"
      ]
     },
     "metadata": {},
     "output_type": "display_data"
    }
   ],
   "source": [
    "#FT% in each quarter\n",
    "q1 = df[df['period'] == 1]\n",
    "q2 = df[df['period'] == 2]\n",
    "q3 = df[df['period'] == 3]\n",
    "q4 = df[df['period'] == 4]\n",
    "\n",
    "shots_made_q1 = q1['shot_made']\n",
    "shots_made_q2 = q2['shot_made']\n",
    "shots_made_q3 = q3['shot_made']\n",
    "shots_made_q4 = q4['shot_made']\n",
    "\n",
    "#PLOT\n",
    "plt.figure(figsize=(15,5))\n",
    "\n",
    "plt.subplot(1, 4, 1)\n",
    "makepie(shots_made_q1, '1st Quarter')\n",
    "\n",
    "plt.subplot(1, 4, 2)\n",
    "makepie(shots_made_q2, '2nd Quarter')\n",
    "\n",
    "plt.subplot(1, 4, 3)\n",
    "makepie(shots_made_q3, '3rd Quarter')\n",
    "\n",
    "plt.subplot(1, 4, 4)\n",
    "makepie(shots_made_q4, '4th Quarter')"
   ]
  },
  {
   "cell_type": "markdown",
   "metadata": {},
   "source": [
    "While there is only small differences between free throw percentage in each quarter, it is interesting to note that the 3rd quarter is the most significant outlier, yielding the highest percentage. This may be worth further investigation."
   ]
  },
  {
   "cell_type": "markdown",
   "metadata": {},
   "source": [
    "For my next and final analysis, I'll be taking a look at free throws taken during clutch time.\n",
    "In the NBA, \"clutch time\" is defined as the \"last five minuts of any game in which two teams are seperated by five points or less\" (deadspin.com).\n",
    "\n",
    "It's no secret that some players perform in the clutch while others crack under pressure. Let's find out if the former or the latter is more common."
   ]
  },
  {
   "cell_type": "markdown",
   "metadata": {},
   "source": [
    "# Free Throw % in Clutch Time"
   ]
  },
  {
   "cell_type": "code",
   "execution_count": 11,
   "metadata": {},
   "outputs": [
    {
     "data": {
      "image/png": "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\n",
      "text/plain": [
       "<Figure size 720x432 with 1 Axes>"
      ]
     },
     "metadata": {},
     "output_type": "display_data"
    }
   ],
   "source": [
    "time = df['time']\n",
    "\n",
    "#FT% in CLUTCH TIME\n",
    "\n",
    "#define clutch\n",
    "def clutch(d):\n",
    "    if ((abs(d['score_2'] - d['score_1']) <= 5) & (int(d['period']) >= 4) & (d['time_mins'] <= 4)):\n",
    "        return 1\n",
    "    else:\n",
    "        return 0\n",
    "    \n",
    "    \n",
    "#CONVERT 'time' COLUMN FOR USE WITH CONDITIONALS\n",
    "\n",
    "#make copy of dataframe to leave original intact\n",
    "df2 = df\n",
    "\n",
    "#trim seconds off times\n",
    "time_mins = [time[:-3] for time in time]\n",
    "\n",
    "#convert time strings into ints\n",
    "time_mins = list(map(int, time_mins))\n",
    "\n",
    "#add time_mins column to df2\n",
    "df2['time_mins'] = time_mins\n",
    "\n",
    "\n",
    "#ISOLATE CLOSE GAMES (within 5 points)\n",
    "\n",
    "#create two new columns representing both teams' scores respectively\n",
    "df2['score_1'] = df2['score'].apply(lambda x: int(x.split(\"-\")[0]))\n",
    "df2['score_2'] = df2['score'].apply(lambda x: int(x.split(\"-\")[1]))\n",
    "\n",
    "#add binary 'clutch' game column\n",
    "df2['clutch'] = df2.apply(clutch, axis=1)\n",
    "clutch_shots = df2[df2['clutch'] == 1]\n",
    "shots_made_c = clutch_shots['shot_made']\n",
    "\n",
    "#PLOT\n",
    "plt.figure(figsize=(10,6))\n",
    "makepie(shots_made_c, 'Free Throws in Clutch Time')\n",
    "plt.show()"
   ]
  },
  {
   "cell_type": "code",
   "execution_count": 12,
   "metadata": {},
   "outputs": [
    {
     "data": {
      "text/html": [
       "<div>\n",
       "<style scoped>\n",
       "    .dataframe tbody tr th:only-of-type {\n",
       "        vertical-align: middle;\n",
       "    }\n",
       "\n",
       "    .dataframe tbody tr th {\n",
       "        vertical-align: top;\n",
       "    }\n",
       "\n",
       "    .dataframe thead th {\n",
       "        text-align: right;\n",
       "    }\n",
       "</style>\n",
       "<table border=\"1\" class=\"dataframe\">\n",
       "  <thead>\n",
       "    <tr style=\"text-align: right;\">\n",
       "      <th></th>\n",
       "      <th>end_result</th>\n",
       "      <th>game</th>\n",
       "      <th>game_id</th>\n",
       "      <th>period</th>\n",
       "      <th>play</th>\n",
       "      <th>player</th>\n",
       "      <th>playoffs</th>\n",
       "      <th>score</th>\n",
       "      <th>season</th>\n",
       "      <th>shot_made</th>\n",
       "      <th>time</th>\n",
       "      <th>time_mins</th>\n",
       "      <th>score_1</th>\n",
       "      <th>score_2</th>\n",
       "      <th>clutch</th>\n",
       "    </tr>\n",
       "  </thead>\n",
       "  <tbody>\n",
       "    <tr>\n",
       "      <th>0</th>\n",
       "      <td>106 - 114</td>\n",
       "      <td>PHX - LAL</td>\n",
       "      <td>261031013.0</td>\n",
       "      <td>1.0</td>\n",
       "      <td>Andrew Bynum makes free throw 1 of 2</td>\n",
       "      <td>Andrew Bynum</td>\n",
       "      <td>regular</td>\n",
       "      <td>0 - 1</td>\n",
       "      <td>2006 - 2007</td>\n",
       "      <td>1</td>\n",
       "      <td>11:45</td>\n",
       "      <td>11</td>\n",
       "      <td>0</td>\n",
       "      <td>1</td>\n",
       "      <td>0</td>\n",
       "    </tr>\n",
       "    <tr>\n",
       "      <th>1</th>\n",
       "      <td>106 - 114</td>\n",
       "      <td>PHX - LAL</td>\n",
       "      <td>261031013.0</td>\n",
       "      <td>1.0</td>\n",
       "      <td>Andrew Bynum makes free throw 2 of 2</td>\n",
       "      <td>Andrew Bynum</td>\n",
       "      <td>regular</td>\n",
       "      <td>0 - 2</td>\n",
       "      <td>2006 - 2007</td>\n",
       "      <td>1</td>\n",
       "      <td>11:45</td>\n",
       "      <td>11</td>\n",
       "      <td>0</td>\n",
       "      <td>2</td>\n",
       "      <td>0</td>\n",
       "    </tr>\n",
       "    <tr>\n",
       "      <th>2</th>\n",
       "      <td>106 - 114</td>\n",
       "      <td>PHX - LAL</td>\n",
       "      <td>261031013.0</td>\n",
       "      <td>1.0</td>\n",
       "      <td>Andrew Bynum makes free throw 1 of 2</td>\n",
       "      <td>Andrew Bynum</td>\n",
       "      <td>regular</td>\n",
       "      <td>18 - 12</td>\n",
       "      <td>2006 - 2007</td>\n",
       "      <td>1</td>\n",
       "      <td>7:26</td>\n",
       "      <td>7</td>\n",
       "      <td>18</td>\n",
       "      <td>12</td>\n",
       "      <td>0</td>\n",
       "    </tr>\n",
       "    <tr>\n",
       "      <th>3</th>\n",
       "      <td>106 - 114</td>\n",
       "      <td>PHX - LAL</td>\n",
       "      <td>261031013.0</td>\n",
       "      <td>1.0</td>\n",
       "      <td>Andrew Bynum misses free throw 2 of 2</td>\n",
       "      <td>Andrew Bynum</td>\n",
       "      <td>regular</td>\n",
       "      <td>18 - 12</td>\n",
       "      <td>2006 - 2007</td>\n",
       "      <td>0</td>\n",
       "      <td>7:26</td>\n",
       "      <td>7</td>\n",
       "      <td>18</td>\n",
       "      <td>12</td>\n",
       "      <td>0</td>\n",
       "    </tr>\n",
       "    <tr>\n",
       "      <th>4</th>\n",
       "      <td>106 - 114</td>\n",
       "      <td>PHX - LAL</td>\n",
       "      <td>261031013.0</td>\n",
       "      <td>1.0</td>\n",
       "      <td>Shawn Marion makes free throw 1 of 1</td>\n",
       "      <td>Shawn Marion</td>\n",
       "      <td>regular</td>\n",
       "      <td>21 - 12</td>\n",
       "      <td>2006 - 2007</td>\n",
       "      <td>1</td>\n",
       "      <td>7:18</td>\n",
       "      <td>7</td>\n",
       "      <td>21</td>\n",
       "      <td>12</td>\n",
       "      <td>0</td>\n",
       "    </tr>\n",
       "    <tr>\n",
       "      <th>5</th>\n",
       "      <td>106 - 114</td>\n",
       "      <td>PHX - LAL</td>\n",
       "      <td>261031013.0</td>\n",
       "      <td>1.0</td>\n",
       "      <td>Amare Stoudemire makes free throw 1 of 2</td>\n",
       "      <td>Amare Stoudemire</td>\n",
       "      <td>regular</td>\n",
       "      <td>33 - 20</td>\n",
       "      <td>2006 - 2007</td>\n",
       "      <td>1</td>\n",
       "      <td>3:15</td>\n",
       "      <td>3</td>\n",
       "      <td>33</td>\n",
       "      <td>20</td>\n",
       "      <td>0</td>\n",
       "    </tr>\n",
       "  </tbody>\n",
       "</table>\n",
       "</div>"
      ],
      "text/plain": [
       "  end_result       game      game_id  period  \\\n",
       "0  106 - 114  PHX - LAL  261031013.0     1.0   \n",
       "1  106 - 114  PHX - LAL  261031013.0     1.0   \n",
       "2  106 - 114  PHX - LAL  261031013.0     1.0   \n",
       "3  106 - 114  PHX - LAL  261031013.0     1.0   \n",
       "4  106 - 114  PHX - LAL  261031013.0     1.0   \n",
       "5  106 - 114  PHX - LAL  261031013.0     1.0   \n",
       "\n",
       "                                       play            player playoffs  \\\n",
       "0      Andrew Bynum makes free throw 1 of 2      Andrew Bynum  regular   \n",
       "1      Andrew Bynum makes free throw 2 of 2      Andrew Bynum  regular   \n",
       "2      Andrew Bynum makes free throw 1 of 2      Andrew Bynum  regular   \n",
       "3     Andrew Bynum misses free throw 2 of 2      Andrew Bynum  regular   \n",
       "4      Shawn Marion makes free throw 1 of 1      Shawn Marion  regular   \n",
       "5  Amare Stoudemire makes free throw 1 of 2  Amare Stoudemire  regular   \n",
       "\n",
       "     score       season  shot_made   time  time_mins  score_1  score_2  clutch  \n",
       "0    0 - 1  2006 - 2007          1  11:45         11        0        1       0  \n",
       "1    0 - 2  2006 - 2007          1  11:45         11        0        2       0  \n",
       "2  18 - 12  2006 - 2007          1   7:26          7       18       12       0  \n",
       "3  18 - 12  2006 - 2007          0   7:26          7       18       12       0  \n",
       "4  21 - 12  2006 - 2007          1   7:18          7       21       12       0  \n",
       "5  33 - 20  2006 - 2007          1   3:15          3       33       20       0  "
      ]
     },
     "execution_count": 12,
     "metadata": {},
     "output_type": "execute_result"
    }
   ],
   "source": [
    "df2[:6]"
   ]
  },
  {
   "cell_type": "markdown",
   "metadata": {},
   "source": [
    "It seems that players generally perform at or above average in clutch time.\n",
    "\n",
    "Just for fun, let's take a look at how well players shoot free throws in clutch time of playoff games. That must be maximum pressure, right?"
   ]
  },
  {
   "cell_type": "code",
   "execution_count": null,
   "metadata": {},
   "outputs": [],
   "source": [
    "#define extra_clutch\n",
    "def clutch_p(d):\n",
    "    if ((abs(d['score_2'] - d['score_1']) <= 5) & (int(d['period']) >= 4) & (d['time_mins'] <= 4) & (d['playoffs'] == 'playoffs')):\n",
    "        return 1\n",
    "    else:\n",
    "        return 0\n",
    "    \n",
    "df2['clutch_p'] = df2.apply(clutch_p, axis=1)\n",
    "clutch_shots_p = df2[df2['clutch_p'] == 1]\n",
    "shots_made_c_p = clutch_shots_p['shot_made']\n",
    "\n",
    "#PLOT\n",
    "plt.figure(figsize=(10,6))\n",
    "makepie(shots_made_c_p, 'Free Throws in Playoff Clutch Time')\n",
    "plt.show()"
   ]
  },
  {
   "cell_type": "markdown",
   "metadata": {},
   "source": [
    "Hmm... Seems about the same."
   ]
  },
  {
   "cell_type": "markdown",
   "metadata": {},
   "source": [
    "# Further Research"
   ]
  },
  {
   "cell_type": "markdown",
   "metadata": {},
   "source": [
    "In my opinion, there was not enough evidence to conclude that clutch time or playoff games affect players' free throw shots.\n",
    "However, it was interesting to see that players made the highest percentage of free throws in the 3rd quarter of games. One theory I have is that:\n",
    "1. This is the beginning of the second half, so the game is getting more serious, thus players will take their free throws more seriously\n",
    "2. Players are also coming off of 15 minutes of halftime rest, so fatigue is less of an issue than it would be in the 2nd or 4th quarter.\n",
    "\n",
    "While this report was a bit inconclusive, I believe there is more that can be done with this data in order to make it valuable.\n",
    "\n",
    "For one thing, each player in the database can be evaluated individually in order to see how they perform in each scenario. Coaches can use this information in order to get certain players to the line at certain times.\n",
    "Say player A is an overall better free throw shooter than player B, but player B has shown that they make a much higher percentage of their free throws in the clutch than player A. Player B should then be the go-to player to draw fouls in clutch time.\n",
    "\n",
    "Additionally, using machine learning techniques learned later in this course, I would ideally be able to make predictions about future games based on this data. Predicting shooting outcomes based on players, teams or game circumstances can be a valuable asset to coaches, managers, sports analysts, comentators, and inevitably useful in the world of sports betting."
   ]
  }
 ],
 "metadata": {
  "kernelspec": {
   "display_name": "Python 3",
   "language": "python",
   "name": "python3"
  },
  "language_info": {
   "codemirror_mode": {
    "name": "ipython",
    "version": 3
   },
   "file_extension": ".py",
   "mimetype": "text/x-python",
   "name": "python",
   "nbconvert_exporter": "python",
   "pygments_lexer": "ipython3",
   "version": "3.7.3"
  }
 },
 "nbformat": 4,
 "nbformat_minor": 2
}
