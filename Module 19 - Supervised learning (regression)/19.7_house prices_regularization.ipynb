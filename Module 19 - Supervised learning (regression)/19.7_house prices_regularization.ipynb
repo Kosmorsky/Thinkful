{
 "cells": [
  {
   "cell_type": "markdown",
   "metadata": {},
   "source": [
    "Assignment\n",
    "In this assignment, you'll continue working with the house prices data. To complete this assignment, submit a link to a Jupyter notebook containing your solutions to the following tasks:\n",
    "\n",
    "1. Load the houseprices data from Thinkful's database.\n",
    "2. Reimplement your model from the previous checkpoint.\n",
    "3. Try OLS, Lasso, Ridge, and ElasticNet regression using the same model specification. This time, you need to do k-fold cross-validation to choose the best hyperparameter values for your models. Scikit-learn has RidgeCV, LassoCV, and ElasticNetCV that you can utilize to do this. Which model is the best? Why?"
   ]
  },
  {
   "cell_type": "code",
   "execution_count": 1,
   "metadata": {},
   "outputs": [],
   "source": [
    "import numpy as np\n",
    "import pandas as pd\n",
    "from sklearn import linear_model\n",
    "import matplotlib.pyplot as plt\n",
    "from sqlalchemy import create_engine\n",
    "import statsmodels.api as sm\n",
    "import seaborn as sns\n",
    "from scipy.stats import zscore\n",
    "from scipy.stats.mstats import winsorize\n",
    "import statsmodels.api as sm\n",
    "from sklearn.preprocessing import LabelEncoder\n",
    "from scipy.stats import bartlett\n",
    "from scipy.stats import levene\n",
    "from statsmodels.tsa.stattools import acf\n",
    "from scipy.stats import jarque_bera\n",
    "from scipy.stats import normaltest\n",
    "from sklearn.linear_model import LinearRegression\n",
    "from sklearn.model_selection import train_test_split\n",
    "from sklearn.metrics import mean_absolute_error\n",
    "import statsmodels.api as sm\n",
    "from statsmodels.tools.eval_measures import mse, rmse\n",
    "from sqlalchemy import create_engine\n",
    "from sklearn.linear_model import Lasso\n",
    "from sklearn.linear_model import Ridge\n",
    "from sklearn.linear_model import ElasticNet\n",
    "from sklearn.linear_model import LinearRegression, LassoCV, RidgeCV, ElasticNetCV\n",
    "\n",
    "import warnings\n",
    "warnings.filterwarnings('ignore')\n",
    "\n",
    "postgres_user = 'dsbc_student'\n",
    "postgres_pw = '7*.8G9QH21'\n",
    "postgres_host = '142.93.121.174'\n",
    "postgres_port = '5432'\n",
    "postgres_db = 'houseprices'"
   ]
  },
  {
   "cell_type": "code",
   "execution_count": 2,
   "metadata": {},
   "outputs": [
    {
     "data": {
      "text/html": [
       "<div>\n",
       "<style scoped>\n",
       "    .dataframe tbody tr th:only-of-type {\n",
       "        vertical-align: middle;\n",
       "    }\n",
       "\n",
       "    .dataframe tbody tr th {\n",
       "        vertical-align: top;\n",
       "    }\n",
       "\n",
       "    .dataframe thead th {\n",
       "        text-align: right;\n",
       "    }\n",
       "</style>\n",
       "<table border=\"1\" class=\"dataframe\">\n",
       "  <thead>\n",
       "    <tr style=\"text-align: right;\">\n",
       "      <th></th>\n",
       "      <th>id</th>\n",
       "      <th>mssubclass</th>\n",
       "      <th>mszoning</th>\n",
       "      <th>lotfrontage</th>\n",
       "      <th>lotarea</th>\n",
       "      <th>street</th>\n",
       "      <th>alley</th>\n",
       "      <th>lotshape</th>\n",
       "      <th>landcontour</th>\n",
       "      <th>utilities</th>\n",
       "      <th>...</th>\n",
       "      <th>poolarea</th>\n",
       "      <th>poolqc</th>\n",
       "      <th>fence</th>\n",
       "      <th>miscfeature</th>\n",
       "      <th>miscval</th>\n",
       "      <th>mosold</th>\n",
       "      <th>yrsold</th>\n",
       "      <th>saletype</th>\n",
       "      <th>salecondition</th>\n",
       "      <th>saleprice</th>\n",
       "    </tr>\n",
       "  </thead>\n",
       "  <tbody>\n",
       "    <tr>\n",
       "      <th>0</th>\n",
       "      <td>1</td>\n",
       "      <td>60</td>\n",
       "      <td>RL</td>\n",
       "      <td>65.0</td>\n",
       "      <td>8450</td>\n",
       "      <td>Pave</td>\n",
       "      <td>None</td>\n",
       "      <td>Reg</td>\n",
       "      <td>Lvl</td>\n",
       "      <td>AllPub</td>\n",
       "      <td>...</td>\n",
       "      <td>0</td>\n",
       "      <td>None</td>\n",
       "      <td>None</td>\n",
       "      <td>None</td>\n",
       "      <td>0</td>\n",
       "      <td>2</td>\n",
       "      <td>2008</td>\n",
       "      <td>WD</td>\n",
       "      <td>Normal</td>\n",
       "      <td>208500</td>\n",
       "    </tr>\n",
       "    <tr>\n",
       "      <th>1</th>\n",
       "      <td>2</td>\n",
       "      <td>20</td>\n",
       "      <td>RL</td>\n",
       "      <td>80.0</td>\n",
       "      <td>9600</td>\n",
       "      <td>Pave</td>\n",
       "      <td>None</td>\n",
       "      <td>Reg</td>\n",
       "      <td>Lvl</td>\n",
       "      <td>AllPub</td>\n",
       "      <td>...</td>\n",
       "      <td>0</td>\n",
       "      <td>None</td>\n",
       "      <td>None</td>\n",
       "      <td>None</td>\n",
       "      <td>0</td>\n",
       "      <td>5</td>\n",
       "      <td>2007</td>\n",
       "      <td>WD</td>\n",
       "      <td>Normal</td>\n",
       "      <td>181500</td>\n",
       "    </tr>\n",
       "    <tr>\n",
       "      <th>2</th>\n",
       "      <td>3</td>\n",
       "      <td>60</td>\n",
       "      <td>RL</td>\n",
       "      <td>68.0</td>\n",
       "      <td>11250</td>\n",
       "      <td>Pave</td>\n",
       "      <td>None</td>\n",
       "      <td>IR1</td>\n",
       "      <td>Lvl</td>\n",
       "      <td>AllPub</td>\n",
       "      <td>...</td>\n",
       "      <td>0</td>\n",
       "      <td>None</td>\n",
       "      <td>None</td>\n",
       "      <td>None</td>\n",
       "      <td>0</td>\n",
       "      <td>9</td>\n",
       "      <td>2008</td>\n",
       "      <td>WD</td>\n",
       "      <td>Normal</td>\n",
       "      <td>223500</td>\n",
       "    </tr>\n",
       "    <tr>\n",
       "      <th>3</th>\n",
       "      <td>4</td>\n",
       "      <td>70</td>\n",
       "      <td>RL</td>\n",
       "      <td>60.0</td>\n",
       "      <td>9550</td>\n",
       "      <td>Pave</td>\n",
       "      <td>None</td>\n",
       "      <td>IR1</td>\n",
       "      <td>Lvl</td>\n",
       "      <td>AllPub</td>\n",
       "      <td>...</td>\n",
       "      <td>0</td>\n",
       "      <td>None</td>\n",
       "      <td>None</td>\n",
       "      <td>None</td>\n",
       "      <td>0</td>\n",
       "      <td>2</td>\n",
       "      <td>2006</td>\n",
       "      <td>WD</td>\n",
       "      <td>Abnorml</td>\n",
       "      <td>140000</td>\n",
       "    </tr>\n",
       "    <tr>\n",
       "      <th>4</th>\n",
       "      <td>5</td>\n",
       "      <td>60</td>\n",
       "      <td>RL</td>\n",
       "      <td>84.0</td>\n",
       "      <td>14260</td>\n",
       "      <td>Pave</td>\n",
       "      <td>None</td>\n",
       "      <td>IR1</td>\n",
       "      <td>Lvl</td>\n",
       "      <td>AllPub</td>\n",
       "      <td>...</td>\n",
       "      <td>0</td>\n",
       "      <td>None</td>\n",
       "      <td>None</td>\n",
       "      <td>None</td>\n",
       "      <td>0</td>\n",
       "      <td>12</td>\n",
       "      <td>2008</td>\n",
       "      <td>WD</td>\n",
       "      <td>Normal</td>\n",
       "      <td>250000</td>\n",
       "    </tr>\n",
       "  </tbody>\n",
       "</table>\n",
       "<p>5 rows × 81 columns</p>\n",
       "</div>"
      ],
      "text/plain": [
       "   id  mssubclass mszoning  lotfrontage  lotarea street alley lotshape  \\\n",
       "0   1          60       RL         65.0     8450   Pave  None      Reg   \n",
       "1   2          20       RL         80.0     9600   Pave  None      Reg   \n",
       "2   3          60       RL         68.0    11250   Pave  None      IR1   \n",
       "3   4          70       RL         60.0     9550   Pave  None      IR1   \n",
       "4   5          60       RL         84.0    14260   Pave  None      IR1   \n",
       "\n",
       "  landcontour utilities  ... poolarea poolqc fence miscfeature miscval mosold  \\\n",
       "0         Lvl    AllPub  ...        0   None  None        None       0      2   \n",
       "1         Lvl    AllPub  ...        0   None  None        None       0      5   \n",
       "2         Lvl    AllPub  ...        0   None  None        None       0      9   \n",
       "3         Lvl    AllPub  ...        0   None  None        None       0      2   \n",
       "4         Lvl    AllPub  ...        0   None  None        None       0     12   \n",
       "\n",
       "  yrsold  saletype  salecondition  saleprice  \n",
       "0   2008        WD         Normal     208500  \n",
       "1   2007        WD         Normal     181500  \n",
       "2   2008        WD         Normal     223500  \n",
       "3   2006        WD        Abnorml     140000  \n",
       "4   2008        WD         Normal     250000  \n",
       "\n",
       "[5 rows x 81 columns]"
      ]
     },
     "execution_count": 2,
     "metadata": {},
     "output_type": "execute_result"
    }
   ],
   "source": [
    "engine = create_engine('postgresql://{}:{}@{}:{}/{}'.format(\n",
    "    postgres_user, postgres_pw, postgres_host, postgres_port, postgres_db))\n",
    "df = pd.read_sql_query('select * from houseprices', con=engine)\n",
    "\n",
    "#engine.dispose()\n",
    "\n",
    "df.head()"
   ]
  },
  {
   "cell_type": "code",
   "execution_count": 3,
   "metadata": {},
   "outputs": [],
   "source": [
    "features = ['overallqual', 'yearbuilt', 'yearremodadd', 'totalbsmtsf', 'firstflrsf', 'grlivarea', 'fullbath', 'totrmsabvgrd', 'garagecars', 'garagearea']"
   ]
  },
  {
   "cell_type": "code",
   "execution_count": 4,
   "metadata": {},
   "outputs": [
    {
     "data": {
      "text/plain": [
       "['overallqual',\n",
       " 'yearbuilt',\n",
       " 'yearremodadd',\n",
       " 'totalbsmtsf',\n",
       " 'firstflrsf',\n",
       " 'fullbath',\n",
       " 'grlivarea_totrmsabvgrd',\n",
       " 'garagearea_garagecars',\n",
       " 'inside_sf',\n",
       " 'outside_sf']"
      ]
     },
     "execution_count": 4,
     "metadata": {},
     "output_type": "execute_result"
    }
   ],
   "source": [
    "#df['yearbuilt_garageyrblt'] = df.yearbuilt * df.garageyrblt\n",
    "#features.append('yearbuilt_garageyrblt')\n",
    "#features.remove('yearbuilt')\n",
    "#features.remove('garageyrblt')\n",
    "\n",
    "df['grlivarea_totrmsabvgrd'] = df.grlivarea * df.totrmsabvgrd\n",
    "features.append('grlivarea_totrmsabvgrd')\n",
    "features.remove('grlivarea')\n",
    "features.remove('totrmsabvgrd')\n",
    "\n",
    "#df['firstflrsf_totalbsmtsf'] = df.firstflrsf + df.totalbsmtsf\n",
    "#features.append('firstflrsf_totalbsmtsf')\n",
    "#features.remove('firstflrsf')\n",
    "#features.remove('totalbsmtsf')\n",
    "\n",
    "df['garagearea_garagecars'] = df.garagearea * df.garagecars\n",
    "features.append('garagearea_garagecars')\n",
    "features.remove('garagearea')\n",
    "features.remove('garagecars')\n",
    "\n",
    "# reset feature list\n",
    "#features = ['overallqual', 'yearbuilt', 'yearremodadd', 'grlivarea', 'fullbath', 'totrmsabvgrd', 'garagecars', 'garagearea']\n",
    "\n",
    "df['inside_sf'] = df.totalbsmtsf + df.firstflrsf + df.secondflrsf\n",
    "features.append('inside_sf')\n",
    "\n",
    "df['outside_sf'] = df.wooddecksf + df.openporchsf\n",
    "features.append('outside_sf')\n",
    "\n",
    "features"
   ]
  },
  {
   "cell_type": "code",
   "execution_count": 5,
   "metadata": {},
   "outputs": [],
   "source": [
    "#Y = df.saleprice\n",
    "Y = np.log1p(df.saleprice)\n",
    "\n",
    "X = df[features]"
   ]
  },
  {
   "cell_type": "code",
   "execution_count": 6,
   "metadata": {},
   "outputs": [
    {
     "name": "stdout",
     "output_type": "stream",
     "text": [
      "The number of observations in training set is 1168\n",
      "The number of observations in test set is 292\n"
     ]
    }
   ],
   "source": [
    "X_train, X_test, y_train, y_test = train_test_split(X, Y, test_size = 0.2, random_state = 465)\n",
    "\n",
    "print(\"The number of observations in training set is {}\".format(X_train.shape[0]))\n",
    "print(\"The number of observations in test set is {}\".format(X_test.shape[0]))"
   ]
  },
  {
   "cell_type": "code",
   "execution_count": 7,
   "metadata": {},
   "outputs": [
    {
     "name": "stdout",
     "output_type": "stream",
     "text": [
      "                            OLS Regression Results                            \n",
      "==============================================================================\n",
      "Dep. Variable:              saleprice   R-squared:                       0.813\n",
      "Model:                            OLS   Adj. R-squared:                  0.812\n",
      "Method:                 Least Squares   F-statistic:                     504.0\n",
      "Date:                Thu, 31 Oct 2019   Prob (F-statistic):               0.00\n",
      "Time:                        15:16:27   Log-Likelihood:                 401.92\n",
      "No. Observations:                1168   AIC:                            -781.8\n",
      "Df Residuals:                    1157   BIC:                            -726.2\n",
      "Df Model:                          10                                         \n",
      "Covariance Type:            nonrobust                                         \n",
      "==========================================================================================\n",
      "                             coef    std err          t      P>|t|      [0.025      0.975]\n",
      "------------------------------------------------------------------------------------------\n",
      "const                      3.6177      0.661      5.471      0.000       2.320       4.915\n",
      "overallqual                0.1033      0.006     16.863      0.000       0.091       0.115\n",
      "yearbuilt                  0.0016      0.000      6.468      0.000       0.001       0.002\n",
      "yearremodadd               0.0020      0.000      6.080      0.000       0.001       0.003\n",
      "totalbsmtsf               -0.0003   4.08e-05     -6.851      0.000      -0.000      -0.000\n",
      "firstflrsf              6.731e-05   2.45e-05      2.746      0.006    1.92e-05       0.000\n",
      "fullbath                  -0.0096      0.013     -0.713      0.476      -0.036       0.017\n",
      "grlivarea_totrmsabvgrd  -9.24e-06   2.63e-06     -3.515      0.000   -1.44e-05   -4.08e-06\n",
      "garagearea_garagecars   7.134e-05   9.69e-06      7.361      0.000    5.23e-05    9.04e-05\n",
      "inside_sf                  0.0003   3.62e-05      9.113      0.000       0.000       0.000\n",
      "outside_sf                 0.0002   3.99e-05      4.319      0.000     9.4e-05       0.000\n",
      "==============================================================================\n",
      "Omnibus:                      799.819   Durbin-Watson:                   1.860\n",
      "Prob(Omnibus):                  0.000   Jarque-Bera (JB):            30283.360\n",
      "Skew:                          -2.640   Prob(JB):                         0.00\n",
      "Kurtosis:                      27.380   Cond. No.                     1.71e+06\n",
      "==============================================================================\n",
      "\n",
      "Warnings:\n",
      "[1] Standard Errors assume that the covariance matrix of the errors is correctly specified.\n",
      "[2] The condition number is large, 1.71e+06. This might indicate that there are\n",
      "strong multicollinearity or other numerical problems.\n"
     ]
    }
   ],
   "source": [
    "# We add constant to the model as it's a best practice\n",
    "# to do so everytime!\n",
    "X_train = sm.add_constant(X_train)\n",
    "\n",
    "# We fit an OLS model using statsmodels\n",
    "results = sm.OLS(y_train, X_train).fit()\n",
    "\n",
    "# We print the summary results\n",
    "print(results.summary())"
   ]
  },
  {
   "cell_type": "code",
   "execution_count": 8,
   "metadata": {},
   "outputs": [
    {
     "data": {
      "image/png": "[encoded data removed]",
      "text/plain": [
       "<Figure size 432x288 with 1 Axes>"
      ]
     },
     "metadata": {
      "needs_background": "light"
     },
     "output_type": "display_data"
    },
    {
     "name": "stdout",
     "output_type": "stream",
     "text": [
      "Mean absolute error of the prediction is: 0.11262695940013033\n",
      "Mean squared error of the prediction is: 0.025632506665405907\n",
      "Root mean squared error of the prediction is: 0.16010155110243593\n",
      "Mean absolute percentage error of the prediction is: 0.9446605373445258\n"
     ]
    }
   ],
   "source": [
    "# We add constant to the model as it's a best practice\n",
    "# to do so every time!\n",
    "X_test = sm.add_constant(X_test)\n",
    "\n",
    "# We are making predictions here\n",
    "y_preds = results.predict(X_test)\n",
    "\n",
    "plt.scatter(y_test, y_preds)\n",
    "plt.plot(y_test, y_test, color=\"red\")\n",
    "plt.xlabel(\"true values\")\n",
    "plt.ylabel(\"predicted values\")\n",
    "plt.title(\"Charges: true and predicted values\")\n",
    "plt.show()\n",
    "\n",
    "print(\"Mean absolute error of the prediction is: {}\".format(mean_absolute_error(y_test, y_preds)))\n",
    "print(\"Mean squared error of the prediction is: {}\".format(mse(y_test, y_preds)))\n",
    "print(\"Root mean squared error of the prediction is: {}\".format(rmse(y_test, y_preds)))\n",
    "print(\"Mean absolute percentage error of the prediction is: {}\".format(np.mean(np.abs((y_test - y_preds) / y_test)) * 100))"
   ]
  },
  {
   "cell_type": "markdown",
   "metadata": {},
   "source": [
    "### Try OLS, Lasso, Ridge, and ElasticNet regression using the same model specification. This time, you need to do k-fold cross-validation to choose the best hyperparameter values for your models. Scikit-learn has RidgeCV, LassoCV, and ElasticNetCV that you can utilize to do this. Which model is the best? Why?"
   ]
  },
  {
   "cell_type": "markdown",
   "metadata": {},
   "source": [
    "#### OLS"
   ]
  },
  {
   "cell_type": "code",
   "execution_count": 9,
   "metadata": {},
   "outputs": [
    {
     "data": {
      "text/html": [
       "<table class=\"simpletable\">\n",
       "<caption>OLS Regression Results</caption>\n",
       "<tr>\n",
       "  <th>Dep. Variable:</th>        <td>saleprice</td>    <th>  R-squared:         </th> <td>   0.821</td>\n",
       "</tr>\n",
       "<tr>\n",
       "  <th>Model:</th>                   <td>OLS</td>       <th>  Adj. R-squared:    </th> <td>   0.820</td>\n",
       "</tr>\n",
       "<tr>\n",
       "  <th>Method:</th>             <td>Least Squares</td>  <th>  F-statistic:       </th> <td>   663.8</td>\n",
       "</tr>\n",
       "<tr>\n",
       "  <th>Date:</th>             <td>Thu, 31 Oct 2019</td> <th>  Prob (F-statistic):</th>  <td>  0.00</td> \n",
       "</tr>\n",
       "<tr>\n",
       "  <th>Time:</th>                 <td>15:16:27</td>     <th>  Log-Likelihood:    </th> <td>  523.83</td>\n",
       "</tr>\n",
       "<tr>\n",
       "  <th>No. Observations:</th>      <td>  1460</td>      <th>  AIC:               </th> <td>  -1026.</td>\n",
       "</tr>\n",
       "<tr>\n",
       "  <th>Df Residuals:</th>          <td>  1449</td>      <th>  BIC:               </th> <td>  -967.5</td>\n",
       "</tr>\n",
       "<tr>\n",
       "  <th>Df Model:</th>              <td>    10</td>      <th>                     </th>     <td> </td>   \n",
       "</tr>\n",
       "<tr>\n",
       "  <th>Covariance Type:</th>      <td>nonrobust</td>    <th>                     </th>     <td> </td>   \n",
       "</tr>\n",
       "</table>\n",
       "<table class=\"simpletable\">\n",
       "<tr>\n",
       "             <td></td>               <th>coef</th>     <th>std err</th>      <th>t</th>      <th>P>|t|</th>  <th>[0.025</th>    <th>0.975]</th>  \n",
       "</tr>\n",
       "<tr>\n",
       "  <th>const</th>                  <td>    3.0988</td> <td>    0.578</td> <td>    5.360</td> <td> 0.000</td> <td>    1.965</td> <td>    4.233</td>\n",
       "</tr>\n",
       "<tr>\n",
       "  <th>overallqual</th>            <td>    0.0952</td> <td>    0.005</td> <td>   17.880</td> <td> 0.000</td> <td>    0.085</td> <td>    0.106</td>\n",
       "</tr>\n",
       "<tr>\n",
       "  <th>yearbuilt</th>              <td>    0.0018</td> <td>    0.000</td> <td>    8.295</td> <td> 0.000</td> <td>    0.001</td> <td>    0.002</td>\n",
       "</tr>\n",
       "<tr>\n",
       "  <th>yearremodadd</th>           <td>    0.0021</td> <td>    0.000</td> <td>    7.185</td> <td> 0.000</td> <td>    0.001</td> <td>    0.003</td>\n",
       "</tr>\n",
       "<tr>\n",
       "  <th>totalbsmtsf</th>            <td>   -0.0003</td> <td> 3.65e-05</td> <td>   -7.679</td> <td> 0.000</td> <td>   -0.000</td> <td>   -0.000</td>\n",
       "</tr>\n",
       "<tr>\n",
       "  <th>firstflrsf</th>             <td> 5.697e-05</td> <td> 2.21e-05</td> <td>    2.581</td> <td> 0.010</td> <td> 1.37e-05</td> <td>    0.000</td>\n",
       "</tr>\n",
       "<tr>\n",
       "  <th>fullbath</th>               <td>   -0.0095</td> <td>    0.012</td> <td>   -0.799</td> <td> 0.424</td> <td>   -0.033</td> <td>    0.014</td>\n",
       "</tr>\n",
       "<tr>\n",
       "  <th>grlivarea_totrmsabvgrd</th> <td>-1.023e-05</td> <td> 2.33e-06</td> <td>   -4.380</td> <td> 0.000</td> <td>-1.48e-05</td> <td>-5.65e-06</td>\n",
       "</tr>\n",
       "<tr>\n",
       "  <th>garagearea_garagecars</th>  <td> 7.032e-05</td> <td> 8.59e-06</td> <td>    8.191</td> <td> 0.000</td> <td> 5.35e-05</td> <td> 8.72e-05</td>\n",
       "</tr>\n",
       "<tr>\n",
       "  <th>inside_sf</th>              <td>    0.0004</td> <td>  3.2e-05</td> <td>   11.055</td> <td> 0.000</td> <td>    0.000</td> <td>    0.000</td>\n",
       "</tr>\n",
       "<tr>\n",
       "  <th>outside_sf</th>             <td>    0.0002</td> <td> 3.41e-05</td> <td>    4.655</td> <td> 0.000</td> <td> 9.19e-05</td> <td>    0.000</td>\n",
       "</tr>\n",
       "</table>\n",
       "<table class=\"simpletable\">\n",
       "<tr>\n",
       "  <th>Omnibus:</th>       <td>984.687</td> <th>  Durbin-Watson:     </th> <td>   1.968</td> \n",
       "</tr>\n",
       "<tr>\n",
       "  <th>Prob(Omnibus):</th> <td> 0.000</td>  <th>  Jarque-Bera (JB):  </th> <td>39174.208</td>\n",
       "</tr>\n",
       "<tr>\n",
       "  <th>Skew:</th>          <td>-2.594</td>  <th>  Prob(JB):          </th> <td>    0.00</td> \n",
       "</tr>\n",
       "<tr>\n",
       "  <th>Kurtosis:</th>      <td>27.840</td>  <th>  Cond. No.          </th> <td>1.69e+06</td> \n",
       "</tr>\n",
       "</table><br/><br/>Warnings:<br/>[1] Standard Errors assume that the covariance matrix of the errors is correctly specified.<br/>[2] The condition number is large, 1.69e+06. This might indicate that there are<br/>strong multicollinearity or other numerical problems."
      ],
      "text/plain": [
       "<class 'statsmodels.iolib.summary.Summary'>\n",
       "\"\"\"\n",
       "                            OLS Regression Results                            \n",
       "==============================================================================\n",
       "Dep. Variable:              saleprice   R-squared:                       0.821\n",
       "Model:                            OLS   Adj. R-squared:                  0.820\n",
       "Method:                 Least Squares   F-statistic:                     663.8\n",
       "Date:                Thu, 31 Oct 2019   Prob (F-statistic):               0.00\n",
       "Time:                        15:16:27   Log-Likelihood:                 523.83\n",
       "No. Observations:                1460   AIC:                            -1026.\n",
       "Df Residuals:                    1449   BIC:                            -967.5\n",
       "Df Model:                          10                                         \n",
       "Covariance Type:            nonrobust                                         \n",
       "==========================================================================================\n",
       "                             coef    std err          t      P>|t|      [0.025      0.975]\n",
       "------------------------------------------------------------------------------------------\n",
       "const                      3.0988      0.578      5.360      0.000       1.965       4.233\n",
       "overallqual                0.0952      0.005     17.880      0.000       0.085       0.106\n",
       "yearbuilt                  0.0018      0.000      8.295      0.000       0.001       0.002\n",
       "yearremodadd               0.0021      0.000      7.185      0.000       0.001       0.003\n",
       "totalbsmtsf               -0.0003   3.65e-05     -7.679      0.000      -0.000      -0.000\n",
       "firstflrsf              5.697e-05   2.21e-05      2.581      0.010    1.37e-05       0.000\n",
       "fullbath                  -0.0095      0.012     -0.799      0.424      -0.033       0.014\n",
       "grlivarea_totrmsabvgrd -1.023e-05   2.33e-06     -4.380      0.000   -1.48e-05   -5.65e-06\n",
       "garagearea_garagecars   7.032e-05   8.59e-06      8.191      0.000    5.35e-05    8.72e-05\n",
       "inside_sf                  0.0004    3.2e-05     11.055      0.000       0.000       0.000\n",
       "outside_sf                 0.0002   3.41e-05      4.655      0.000    9.19e-05       0.000\n",
       "==============================================================================\n",
       "Omnibus:                      984.687   Durbin-Watson:                   1.968\n",
       "Prob(Omnibus):                  0.000   Jarque-Bera (JB):            39174.208\n",
       "Skew:                          -2.594   Prob(JB):                         0.00\n",
       "Kurtosis:                      27.840   Cond. No.                     1.69e+06\n",
       "==============================================================================\n",
       "\n",
       "Warnings:\n",
       "[1] Standard Errors assume that the covariance matrix of the errors is correctly specified.\n",
       "[2] The condition number is large, 1.69e+06. This might indicate that there are\n",
       "strong multicollinearity or other numerical problems.\n",
       "\"\"\""
      ]
     },
     "execution_count": 9,
     "metadata": {},
     "output_type": "execute_result"
    }
   ],
   "source": [
    "X = sm.add_constant(X)\n",
    "\n",
    "results = sm.OLS(Y, X).fit()\n",
    "\n",
    "results.summary()"
   ]
  },
  {
   "cell_type": "markdown",
   "metadata": {},
   "source": [
    "#### LASSO"
   ]
  },
  {
   "cell_type": "code",
   "execution_count": 10,
   "metadata": {},
   "outputs": [
    {
     "name": "stdout",
     "output_type": "stream",
     "text": [
      "R-squared of the model on the training set is: 0.0\n",
      "-----Test set statistics-----\n",
      "R-squared of the model on the test set is: -0.0013312851260176561\n",
      "Mean absolute error of the prediction is: 0.3178243812258433\n",
      "Mean squared error of the prediction is: 0.1669676348189956\n",
      "Root mean squared error of the prediction is: 0.4086167334055173\n",
      "Mean absolute percentage error of the prediction is: 2.6437648221337366\n"
     ]
    }
   ],
   "source": [
    "lasso_cv = Lasso(alpha=10**20.5) \n",
    "lasso_cv.fit(X_train, y_train)\n",
    "\n",
    "# We are making predictions here\n",
    "y_preds_train = lasso_cv.predict(X_train)\n",
    "y_preds_test = lasso_cv.predict(X_test)\n",
    "\n",
    "print(\"R-squared of the model on the training set is: {}\".format(lasso_cv.score(X_train, y_train)))\n",
    "print(\"-----Test set statistics-----\")\n",
    "print(\"R-squared of the model on the test set is: {}\".format(lasso_cv.score(X_test, y_test)))\n",
    "print(\"Mean absolute error of the prediction is: {}\".format(mean_absolute_error(y_test, y_preds_test)))\n",
    "print(\"Mean squared error of the prediction is: {}\".format(mse(y_test, y_preds_test)))\n",
    "print(\"Root mean squared error of the prediction is: {}\".format(rmse(y_test, y_preds_test)))\n",
    "print(\"Mean absolute percentage error of the prediction is: {}\".format(np.mean(np.abs((y_test - y_preds_test) / y_test)) * 100))"
   ]
  },
  {
   "cell_type": "markdown",
   "metadata": {},
   "source": [
    "#### RIDGE"
   ]
  },
  {
   "cell_type": "code",
   "execution_count": 11,
   "metadata": {},
   "outputs": [
    {
     "name": "stdout",
     "output_type": "stream",
     "text": [
      "R-squared of the model on the training set is: 0.0\n",
      "-----Test set statistics-----\n",
      "R-squared of the model on the test set is: -0.0013312851260176561\n",
      "Mean absolute error of the prediction is: 0.3178243812258433\n",
      "Mean squared error of the prediction is: 0.1669676348189956\n",
      "Root mean squared error of the prediction is: 0.4086167334055173\n",
      "Mean absolute percentage error of the prediction is: 2.6437648221337366\n"
     ]
    }
   ],
   "source": [
    "# Fitting a ridge regression model. Alpha is the regularization\n",
    "# parameter (usually called lambda). As alpha gets larger, parameter\n",
    "# shrinkage grows more pronounced.\n",
    "ridge_cv = Ridge(alpha=10**37) \n",
    "ridge_cv.fit(X_train, y_train)\n",
    "\n",
    "# We are making predictions here\n",
    "y_preds_train = ridge_cv.predict(X_train)\n",
    "y_preds_test = ridge_cv.predict(X_test)\n",
    "\n",
    "print(\"R-squared of the model on the training set is: {}\".format(ridge_cv.score(X_train, y_train)))\n",
    "print(\"-----Test set statistics-----\")\n",
    "print(\"R-squared of the model on the test set is: {}\".format(ridge_cv.score(X_test, y_test)))\n",
    "print(\"Mean absolute error of the prediction is: {}\".format(mean_absolute_error(y_test, y_preds_test)))\n",
    "print(\"Mean squared error of the prediction is: {}\".format(mse(y_test, y_preds_test)))\n",
    "print(\"Root mean squared error of the prediction is: {}\".format(rmse(y_test, y_preds_test)))\n",
    "print(\"Mean absolute percentage error of the prediction is: {}\".format(np.mean(np.abs((y_test - y_preds_test) / y_test)) * 100))"
   ]
  },
  {
   "cell_type": "markdown",
   "metadata": {},
   "source": [
    "#### ELASTICNET"
   ]
  },
  {
   "cell_type": "code",
   "execution_count": 12,
   "metadata": {},
   "outputs": [
    {
     "name": "stdout",
     "output_type": "stream",
     "text": [
      "R-squared of the model on the training set is: 0.0\n",
      "-----Test set statistics-----\n",
      "R-squared of the model on the test set is: -0.0013312851260176561\n",
      "Mean absolute error of the prediction is: 0.3178243812258433\n",
      "Mean squared error of the prediction is: 0.1669676348189956\n",
      "Root mean squared error of the prediction is: 0.4086167334055173\n",
      "Mean absolute percentage error of the prediction is: 2.6437648221337366\n"
     ]
    }
   ],
   "source": [
    "elastic_cv = ElasticNet(alpha=10**21, l1_ratio=0.5) \n",
    "elastic_cv.fit(X_train, y_train)\n",
    "\n",
    "# We are making predictions here\n",
    "y_preds_train = elastic_cv.predict(X_train)\n",
    "y_preds_test = elastic_cv.predict(X_test)\n",
    "\n",
    "print(\"R-squared of the model on the training set is: {}\".format(elastic_cv.score(X_train, y_train)))\n",
    "print(\"-----Test set statistics-----\")\n",
    "print(\"R-squared of the model on the test set is: {}\".format(elastic_cv.score(X_test, y_test)))\n",
    "print(\"Mean absolute error of the prediction is: {}\".format(mean_absolute_error(y_test, y_preds_test)))\n",
    "print(\"Mean squared error of the prediction is: {}\".format(mse(y_test, y_preds_test)))\n",
    "print(\"Root mean squared error of the prediction is: {}\".format(rmse(y_test, y_preds_test)))\n",
    "print(\"Mean absolute percentage error of the prediction is: {}\".format(np.mean(np.abs((y_test - y_preds_test) / y_test)) * 100))"
   ]
  },
  {
   "cell_type": "markdown",
   "metadata": {},
   "source": [
    "#### Best model: OLS"
   ]
  }
 ],
 "metadata": {
  "kernelspec": {
   "display_name": "Python 3",
   "language": "python",
   "name": "python3"
  },
  "language_info": {
   "codemirror_mode": {
    "name": "ipython",
    "version": 3
   },
   "file_extension": ".py",
   "mimetype": "text/x-python",
   "name": "python",
   "nbconvert_exporter": "python",
   "pygments_lexer": "ipython3",
   "version": "3.7.2"
  }
 },
 "nbformat": 4,
 "nbformat_minor": 4
}
