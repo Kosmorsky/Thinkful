{
 "cells": [
  {
   "cell_type": "markdown",
   "metadata": {},
   "source": [
    "### 1. Interpretation and significance\n",
    "\n",
    "Suppose that we would like to know how much families in the US are spending on recreation annually. We've estimated the following model:\n",
    "\n",
    "$$ expenditure = 873 + 0.0012annual\\_income + 0.00002annual\\_income^2 - 223.57have\\_kids $$\n",
    "\n",
    "*expenditure* is the annual spending on recreation in US dollars, *annual_income* is the annual income in US dollars, and *have_kids* is a dummy variable indicating the families with children. Interpret the estimated coefficients. What additional statistics should be given in order to make sure that your interpretations make sense statistically. Write up your answer."
   ]
  },
  {
   "cell_type": "markdown",
   "metadata": {},
   "source": [
    "The coefficients mean that for every additional dollar of annual income, expenditure increases by 0.0012 dollars plus .02 times annual income, and families that have kids spend $223.57 less/year on average.\n",
    "\n",
    "T and p values should be provided in order to ensure the coefficients are statistically significant."
   ]
  },
  {
   "cell_type": "markdown",
   "metadata": {},
   "source": [
    "We should add variables of anual income with kids and annual income without kids."
   ]
  }
 ],
 "metadata": {
  "kernelspec": {
   "display_name": "Python 3",
   "language": "python",
   "name": "python3"
  },
  "language_info": {
   "codemirror_mode": {
    "name": "ipython",
    "version": 3
   },
   "file_extension": ".py",
   "mimetype": "text/x-python",
   "name": "python",
   "nbconvert_exporter": "python",
   "pygments_lexer": "ipython3",
   "version": "3.7.2"
  }
 },
 "nbformat": 4,
 "nbformat_minor": 4
}
